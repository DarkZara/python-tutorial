{
  "nbformat": 4,
  "nbformat_minor": 0,
  "metadata": {
    "colab": {
      "provenance": [],
      "collapsed_sections": [
        "8zbU2wfF2uSY",
        "PBqvdjPJ25IA",
        "khxwdOlKGMvy",
        "X4v1RO1KIv__"
      ]
    },
    "kernelspec": {
      "name": "python3",
      "display_name": "Python 3"
    },
    "language_info": {
      "name": "python"
    },
    "gpuClass": "standard",
    "accelerator": "GPU"
  },
  "cells": [
    {
      "cell_type": "markdown",
      "source": [
        "#CodeNevis - Python Basics : structures and String Lists, Tuples, and Dictionaries by Zara"
      ],
      "metadata": {
        "id": "7dU5OlS92R_F"
      }
    },
    {
      "cell_type": "markdown",
      "source": [
        "##leftovers"
      ],
      "metadata": {
        "id": "8zbU2wfF2uSY"
      }
    },
    {
      "cell_type": "code",
      "source": [
        "print(type(None))"
      ],
      "metadata": {
        "id": "kfvG-vbJ2q1x"
      },
      "execution_count": null,
      "outputs": []
    },
    {
      "cell_type": "code",
      "source": [
        "print(0==None)"
      ],
      "metadata": {
        "id": "QxarCzbf22Y4"
      },
      "execution_count": null,
      "outputs": []
    },
    {
      "cell_type": "markdown",
      "source": [
        "##List"
      ],
      "metadata": {
        "id": "PBqvdjPJ25IA"
      }
    },
    {
      "cell_type": "markdown",
      "source": [
        "how to define a list"
      ],
      "metadata": {
        "id": "lvo0h0NQ3EvS"
      }
    },
    {
      "cell_type": "code",
      "source": [
        "a_list = []\n",
        "a_filled_list=[1,\"a\",2,\"b\",a_list]\n",
        "print(a_list)\n",
        "print(a_filled_list)\n"
      ],
      "metadata": {
        "colab": {
          "base_uri": "https://localhost:8080/"
        },
        "id": "yia5ByJU3G4C",
        "outputId": "8195f3c7-959e-4b6c-ed31-c646232c150c"
      },
      "execution_count": null,
      "outputs": [
        {
          "output_type": "stream",
          "name": "stdout",
          "text": [
            "[]\n",
            "[1, 'a', 2, 'b', []]\n",
            "1 a 2 b []\n"
          ]
        }
      ]
    },
    {
      "cell_type": "markdown",
      "source": [
        "indexing"
      ],
      "metadata": {
        "id": "SkrcITmXGGUM"
      }
    },
    {
      "cell_type": "code",
      "source": [
        "a_filled_list=[1,2,3,4,5]\n",
        "print(\"1. \",a_filled_list[0],a_filled_list[1],a_filled_list[2],a_filled_list[3],a_filled_list[4])\n",
        "print(\"2. \",a_filled_list[2:4])\n",
        "print(\"3. \",a_filled_list[-1])#last item\n",
        "print(\"4. \",a_filled_list[-2:-1])\n",
        "print(\"5. \",a_filled_list[0:-1])\n",
        "print(\"6. \",a_filled_list[3:])\n",
        "print(\"7. \",a_filled_list[:])"
      ],
      "metadata": {
        "colab": {
          "base_uri": "https://localhost:8080/"
        },
        "id": "qacsmiMO5mxg",
        "outputId": "5fcee4c3-3969-4244-b25c-5d56368c5f99"
      },
      "execution_count": null,
      "outputs": [
        {
          "output_type": "stream",
          "name": "stdout",
          "text": [
            "1 2 3 4 5\n",
            "[3, 4]\n",
            "5\n",
            "[4]\n",
            "[1, 2, 3, 4]\n",
            "[4, 5]\n"
          ]
        }
      ]
    },
    {
      "cell_type": "markdown",
      "source": [
        "working with list"
      ],
      "metadata": {
        "id": "l0iS-P0xGI4a"
      }
    },
    {
      "cell_type": "code",
      "source": [
        "a_list_of_numbers= [1,2,3,4,5,6]\n",
        "print(\"1. \",len(a_list_of_numbers))\n",
        "\n",
        "#add something at the end of the list\n",
        "a_list_of_numbers.append(7)\n",
        "print(\"2. \",a_list_of_numbers,\" length: \",len(a_list_of_numbers))\n",
        "\n",
        "#add a list to the end of the another\n",
        "another_list=[8,9,10]\n",
        "a_list_of_numbers.extend(another_list)\n",
        "print(\"3. \",a_list_of_numbers,\" length: \",len(a_list_of_numbers))\n",
        "\n",
        "#change list items\n",
        "a_list_of_values = a_list_of_numbers\n",
        "a_list_of_values[0] = \"a\"\n",
        "a_list_of_values[1:3]=[\"b\",\"c\"]\n",
        "print(\"4. \",a_list_of_values)\n",
        "\n",
        "#delete an item by index\n",
        "del a_list_of_values[0:3]\n",
        "print(\"5. \",a_list_of_values,\" length: \",len(a_list_of_values))\n",
        "\n",
        "#delete an item by value\n",
        "a_list_of_values.remove(10)\n",
        "print(\"6. \",a_list_of_values,\" length: \",len(a_list_of_values))\n",
        "\n",
        "print(\"7. \",a_list_of_numbers)#why ?\n",
        "a_list_of_numbers = [1,2,3,4,5,6]\n",
        "a_list_of_values = a_list_of_numbers.copy()\n",
        "del a_list_of_values[0:3]\n",
        "print(\"8. \",a_list_of_values,\" and \",a_list_of_numbers)\n",
        "\n",
        "\n",
        "a_list_of_numbers = [8,2,9,4,5,7]\n",
        "a_list_of_numbers.reverse()\n",
        "print(\"9. \",a_list_of_numbers)\n",
        "a_list_of_numbers.sort()\n",
        "print(\"10. \",a_list_of_numbers)\n",
        "\n",
        "a_list_of_numbers = [8,2,9,4,5,7]\n",
        "print(\"10. \",a_list_of_numbers.index(9))\n",
        "\n",
        "a_list_of_numbers = [8,2,9,4,5,7,7]\n",
        "print(\"11. \",a_list_of_numbers.count(7))"
      ],
      "metadata": {
        "colab": {
          "base_uri": "https://localhost:8080/"
        },
        "id": "0Kbun0vY4Thq",
        "outputId": "da3251a7-83f0-4c98-b7a7-f200bfc1f1b3"
      },
      "execution_count": null,
      "outputs": [
        {
          "output_type": "stream",
          "name": "stdout",
          "text": [
            "1.  6\n",
            "2.  [1, 2, 3, 4, 5, 6, 7]  length:  7\n",
            "3.  [1, 2, 3, 4, 5, 6, 7, 8, 9, 10]  length:  10\n",
            "4.  ['a', 'b', 'c', 4, 5, 6, 7, 8, 9, 10]\n",
            "5.  [4, 5, 6, 7, 8, 9, 10]  length:  7\n",
            "6.  [4, 5, 6, 7, 8, 9]  length:  6\n",
            "7.  [4, 5, 6, 7, 8, 9]\n",
            "8.  [4, 5, 6]  and  [1, 2, 3, 4, 5, 6]\n",
            "9.  [7, 5, 4, 9, 2, 8]\n",
            "10.  [2, 4, 5, 7, 8, 9]\n",
            "10.  2\n",
            "11.  2\n"
          ]
        }
      ]
    },
    {
      "cell_type": "markdown",
      "source": [
        "##tuples"
      ],
      "metadata": {
        "id": "khxwdOlKGMvy"
      }
    },
    {
      "cell_type": "markdown",
      "source": [
        "how to define a tuple"
      ],
      "metadata": {
        "id": "r-i772hGGQNK"
      }
    },
    {
      "cell_type": "code",
      "source": [
        "a_tuple=()\n",
        "another_tupple = (1,2,\"abc\",[1,\"a\"])\n",
        "another_tupple_2 = 1,2,\"abc\",[1,\"a\"]\n",
        "print(a_tuple)\n",
        "print(another_tupple)\n",
        "print(another_tupple_2)\n",
        "print(another_tupple_2+another_tupple)"
      ],
      "metadata": {
        "colab": {
          "base_uri": "https://localhost:8080/"
        },
        "id": "sy7SUSwyFceR",
        "outputId": "a86ce364-85dd-40cf-9684-4ea2591adb06"
      },
      "execution_count": null,
      "outputs": [
        {
          "output_type": "stream",
          "name": "stdout",
          "text": [
            "()\n",
            "(1, 2, 'abc', [1, 'a'])\n",
            "(1, 2, 'abc', [1, 'a'])\n",
            "(1, 2, 'abc', [1, 'a'], 1, 2, 'abc', [1, 'a'])\n"
          ]
        }
      ]
    },
    {
      "cell_type": "markdown",
      "source": [
        "difference with list"
      ],
      "metadata": {
        "id": "_gqE-U3yGSNx"
      }
    },
    {
      "cell_type": "code",
      "source": [
        "a_sample_list=[0,1,2,3]\n",
        "a_sample_tuple=(0,1,2,3)\n"
      ],
      "metadata": {
        "id": "kW3IAom2GTsA"
      },
      "execution_count": null,
      "outputs": []
    },
    {
      "cell_type": "code",
      "source": [
        "a_sample_list.append(8)"
      ],
      "metadata": {
        "id": "NFsEOuuIHKG9"
      },
      "execution_count": null,
      "outputs": []
    },
    {
      "cell_type": "code",
      "source": [
        "a_sample_tuple.append(4)"
      ],
      "metadata": {
        "colab": {
          "base_uri": "https://localhost:8080/",
          "height": 165
        },
        "id": "1_y8m8ojHKoU",
        "outputId": "ba892926-3690-4e29-ce9f-a58a13222a06"
      },
      "execution_count": null,
      "outputs": [
        {
          "output_type": "error",
          "ename": "AttributeError",
          "evalue": "ignored",
          "traceback": [
            "\u001b[0;31m---------------------------------------------------------------------------\u001b[0m",
            "\u001b[0;31mAttributeError\u001b[0m                            Traceback (most recent call last)",
            "\u001b[0;32m<ipython-input-34-19f04d149474>\u001b[0m in \u001b[0;36m<cell line: 1>\u001b[0;34m()\u001b[0m\n\u001b[0;32m----> 1\u001b[0;31m \u001b[0ma_sample_tuple\u001b[0m\u001b[0;34m.\u001b[0m\u001b[0mappend\u001b[0m\u001b[0;34m(\u001b[0m\u001b[0;36m4\u001b[0m\u001b[0;34m)\u001b[0m\u001b[0;34m\u001b[0m\u001b[0;34m\u001b[0m\u001b[0m\n\u001b[0m",
            "\u001b[0;31mAttributeError\u001b[0m: 'tuple' object has no attribute 'append'"
          ]
        }
      ]
    },
    {
      "cell_type": "code",
      "source": [
        "a_sample_list[0]=4"
      ],
      "metadata": {
        "id": "1WkOYGXjHOKj"
      },
      "execution_count": null,
      "outputs": []
    },
    {
      "cell_type": "code",
      "source": [
        "a_sample_tuple[0]=4"
      ],
      "metadata": {
        "colab": {
          "base_uri": "https://localhost:8080/",
          "height": 165
        },
        "id": "WLUrveN1HQ5X",
        "outputId": "859b82b4-505f-4488-81f0-07c586fe155b"
      },
      "execution_count": null,
      "outputs": [
        {
          "output_type": "error",
          "ename": "TypeError",
          "evalue": "ignored",
          "traceback": [
            "\u001b[0;31m---------------------------------------------------------------------------\u001b[0m",
            "\u001b[0;31mTypeError\u001b[0m                                 Traceback (most recent call last)",
            "\u001b[0;32m<ipython-input-35-117efd62fbe2>\u001b[0m in \u001b[0;36m<cell line: 1>\u001b[0;34m()\u001b[0m\n\u001b[0;32m----> 1\u001b[0;31m \u001b[0ma_sample_tuple\u001b[0m\u001b[0;34m[\u001b[0m\u001b[0;36m0\u001b[0m\u001b[0;34m]\u001b[0m\u001b[0;34m=\u001b[0m\u001b[0;36m4\u001b[0m\u001b[0;34m\u001b[0m\u001b[0;34m\u001b[0m\u001b[0m\n\u001b[0m",
            "\u001b[0;31mTypeError\u001b[0m: 'tuple' object does not support item assignment"
          ]
        }
      ]
    },
    {
      "cell_type": "markdown",
      "source": [
        "indexing"
      ],
      "metadata": {
        "id": "skZo8qWaGUJQ"
      }
    },
    {
      "cell_type": "code",
      "source": [
        "a_sample_tuple=(0,1,2,3)\n",
        "print(\"1. \",a_sample_tuple[0],a_sample_tuple[1],a_sample_tuple[2],a_sample_tuple[3])\n",
        "print(\"2. \",a_sample_tuple[2:4])\n",
        "print(\"3. \",a_sample_tuple[-1])#last item\n",
        "print(\"4. \",a_sample_tuple[-2:-1])\n",
        "print(\"5. \",a_sample_tuple[0:-1])\n",
        "print(\"6. \",a_sample_tuple[3:])\n",
        "print(\"7. \",a_sample_tuple[:])"
      ],
      "metadata": {
        "colab": {
          "base_uri": "https://localhost:8080/"
        },
        "id": "0kzml049GaGJ",
        "outputId": "bf68d606-ea48-40f5-de49-1e90af8d5d3a"
      },
      "execution_count": null,
      "outputs": [
        {
          "output_type": "stream",
          "name": "stdout",
          "text": [
            "1.  0 1 2 3\n",
            "2.  (2, 3)\n",
            "3.  3\n",
            "4.  (2,)\n",
            "5.  (0, 1, 2)\n",
            "6.  (3,)\n",
            "7.  (0, 1, 2, 3)\n"
          ]
        }
      ]
    },
    {
      "cell_type": "markdown",
      "source": [
        "working with tuple"
      ],
      "metadata": {
        "id": "uvf67i7ZGVYS"
      }
    },
    {
      "cell_type": "code",
      "source": [
        "a_sample_tuple=(0,1,2,3,1)\n",
        "print(\"1. \",a_sample_tuple.count(1))\n",
        "print(\"2. \",a_sample_tuple.index(1))\n",
        "print(\"3. \",a_sample_tuple.index(2))"
      ],
      "metadata": {
        "colab": {
          "base_uri": "https://localhost:8080/"
        },
        "id": "KtT4T6f2GahY",
        "outputId": "30829735-233f-43db-f65e-9df0288c3589"
      },
      "execution_count": null,
      "outputs": [
        {
          "output_type": "stream",
          "name": "stdout",
          "text": [
            "1.  2\n",
            "2.  1\n",
            "2.  2\n"
          ]
        }
      ]
    },
    {
      "cell_type": "markdown",
      "source": [
        "tuple to list"
      ],
      "metadata": {
        "id": "I3p-OugUHFHN"
      }
    },
    {
      "cell_type": "code",
      "source": [
        "a_sample_tuple=(0,1,2,3,1)\n",
        "print(type(a_sample_tuple))\n",
        "print(type(list(a_sample_tuple)))"
      ],
      "metadata": {
        "colab": {
          "base_uri": "https://localhost:8080/"
        },
        "id": "P7RWEEQyIk9o",
        "outputId": "ebeb1426-b563-4a5b-d5e9-f6d5af29ac1c"
      },
      "execution_count": null,
      "outputs": [
        {
          "output_type": "stream",
          "name": "stdout",
          "text": [
            "<class 'tuple'>\n",
            "<class 'list'>\n"
          ]
        }
      ]
    },
    {
      "cell_type": "markdown",
      "source": [
        "##dictionary"
      ],
      "metadata": {
        "id": "X4v1RO1KIv__"
      }
    },
    {
      "cell_type": "markdown",
      "source": [
        "define a dict"
      ],
      "metadata": {
        "id": "_8urF6LwIyox"
      }
    },
    {
      "cell_type": "code",
      "source": [
        "a_dict={}\n",
        "another_dict={1:\"a\",\n",
        "              \"a\":4,\n",
        "              4:True,\n",
        "              \"tr\":['a',2]}\n",
        "print(a_dict)\n",
        "print(another_dict)"
      ],
      "metadata": {
        "id": "clzKTOCcIx2i",
        "colab": {
          "base_uri": "https://localhost:8080/"
        },
        "outputId": "a6d0fa7d-16e6-44d6-ad9c-b30932d917b9"
      },
      "execution_count": 1,
      "outputs": [
        {
          "output_type": "stream",
          "name": "stdout",
          "text": [
            "{}\n",
            "{1: 'a', 'a': 4, 4: True, 'tr': ['a', 2]}\n"
          ]
        }
      ]
    },
    {
      "cell_type": "markdown",
      "source": [
        "difference with list"
      ],
      "metadata": {
        "id": "nuKD4hpLI0e6"
      }
    },
    {
      "cell_type": "code",
      "source": [
        "a_list=[1,2,3,4]\n",
        "a_dict={\"number one\":1,\n",
        "       2:2,\n",
        "       \"3\":3,\n",
        "       \"four\":4}\n",
        "print(a_list[0],a_list[1],a_list[2],a_list[3])\n",
        "print(a_dict[\"number one\"],a_dict[\"3\"],a_dict[2],a_dict[\"four\"])\n",
        "\n",
        "#proffesionals make a tuple as keys nd list as values\n",
        "keys=\"a\",\"b\",\"c\"\n",
        "vals=[0,1,2]\n",
        "professional_dict={keys[0]:vals[0],\n",
        "                   keys[1]:vals[1],\n",
        "                   keys[2]:vals[2]}\n",
        "print(professional_dict)\n",
        "\n",
        "#or\n",
        "dictionary = dict(zip(keys, vals))\n",
        "print(dictionary)"
      ],
      "metadata": {
        "id": "vTRi5mdbI3M6",
        "colab": {
          "base_uri": "https://localhost:8080/"
        },
        "outputId": "07cb6edc-4566-4f7e-c6d6-23d4e064f76f"
      },
      "execution_count": 13,
      "outputs": [
        {
          "output_type": "stream",
          "name": "stdout",
          "text": [
            "1 2 3 4\n",
            "1 3 2 4\n",
            "{'a': 0, 'b': 1, 'c': 2}\n",
            "{'a': 0, 'b': 1, 'c': 2}\n"
          ]
        }
      ]
    },
    {
      "cell_type": "markdown",
      "source": [
        "indexing"
      ],
      "metadata": {
        "id": "EHk3oduDI3nB"
      }
    },
    {
      "cell_type": "code",
      "source": [
        "a_list=[1,2,3,4]\n",
        "a_dict={\"number one\":1,\n",
        "       2:2,\n",
        "       \"3\":3,\n",
        "       \"four\":4}\n",
        "print(a_dict[\"number one\"],a_dict[\"3\"],a_dict[2],a_dict[\"four\"])"
      ],
      "metadata": {
        "id": "bLQPusKxI54Z",
        "colab": {
          "base_uri": "https://localhost:8080/"
        },
        "outputId": "3e7c88a6-b1bb-4566-dc60-5508fb489aae"
      },
      "execution_count": 8,
      "outputs": [
        {
          "output_type": "stream",
          "name": "stdout",
          "text": [
            "1 3 2 4\n"
          ]
        }
      ]
    },
    {
      "cell_type": "markdown",
      "source": [
        "work with dict"
      ],
      "metadata": {
        "id": "sYLXPPZZI6UB"
      }
    },
    {
      "cell_type": "code",
      "source": [
        "student_cases={\"1\":\"will\",\"2\":\"harry\"}\n",
        "\n",
        "#add to dict\n",
        "student_cases['3']=\"somaye\"\n",
        "print(\"1. \",student_cases)\n",
        "\n",
        "#edit value\n",
        "student_cases['3']=\"atabak\"\n",
        "print(\"2. \",student_cases)\n",
        "\n",
        "#delete by key\n",
        "del student_cases['3']\n",
        "print(\"3. \",student_cases)\n",
        "\n",
        "#length\n",
        "print(\"4. \",len(student_cases))\n",
        "\n",
        "#list of keys\n",
        "print(\"5. \",list(student_cases.keys()))\n",
        "\n",
        "#list of values\n",
        "print(\"6. \",list(student_cases.values()))\n",
        "\n"
      ],
      "metadata": {
        "id": "EAWik-oRI7xJ",
        "colab": {
          "base_uri": "https://localhost:8080/"
        },
        "outputId": "bbbab2bd-4031-4f8c-b9a3-4571e56227aa"
      },
      "execution_count": 19,
      "outputs": [
        {
          "output_type": "stream",
          "name": "stdout",
          "text": [
            "1.  {'1': 'will', '2': 'harry', '3': 'somaye'}\n",
            "2.  {'1': 'will', '2': 'harry', '3': 'atabak'}\n",
            "3.  {'1': 'will', '2': 'harry'}\n",
            "4.  2\n",
            "5.  ['1', '2']\n",
            "6.  ['will', 'harry']\n"
          ]
        }
      ]
    },
    {
      "cell_type": "markdown",
      "source": [
        "##string"
      ],
      "metadata": {
        "id": "rOQy1EGMI8jx"
      }
    },
    {
      "cell_type": "markdown",
      "source": [
        "string is a tuple of chars"
      ],
      "metadata": {
        "id": "CvxjqAWII_d5"
      }
    },
    {
      "cell_type": "code",
      "source": [
        "a_string=\"three rings for the elven kings, who rule in the sky and fields, seven for the dwarven lords in their house of stones,\"\\\n",
        "          \"nine for the mortal men doomed to die, one for the dark lord on his dark throne\"\n",
        "print(\"1. \",a_string[0],a_string[1],a_string[2],a_string[3],a_string[4])\n",
        "print(\"2. \",a_string[2:4])\n",
        "print(\"3. \",a_string[-1])#last item\n",
        "print(\"4. \",a_string[-2:-1])\n",
        "print(\"5. \",a_string[0:-1])\n",
        "print(\"6. \",a_string[3:])\n",
        "print(\"7. \",a_string[:])\n",
        "\n",
        "print(\"8. \",len(a_string))\n",
        "\n",
        "#add something at the end of the string\n",
        "a_string+\"+\" #exception\n",
        "print(\"9. \",a_string,\" length: \",len(a_string))\n",
        "\n",
        "another_list=\".?_\"\n",
        "a_string+another_list\n",
        "print(\"10. \",a_string,\" length: \",len(a_string))\n",
        "\n",
        "\n",
        "words = \"lord of the rings\"\n",
        "words.replace(\"o\",\" \")\n",
        "print(\"11. \",words.replace(\"o\",\" \"),words)\n",
        "list_of_words = words.split(\" \")\n",
        "print(\"12. \",list_of_words)\n",
        "sentence = ' '.join(list_of_words)\n",
        "a_list_of_words = \"lord of the rings\"\n",
        "print(\"13. \",a_list_of_words.index(\"o\"))\n",
        "\n",
        "print(\"14. \",a_list_of_words.count(\"o\"))\n",
        "\n",
        "print(\"15. \",a_list_of_words.find(\" \"))\n",
        "\n",
        "print(\"16. \",a_list_of_words.upper())\n",
        "\n",
        "print(\"17. \",\"ALIBABA\".lower())"
      ],
      "metadata": {
        "colab": {
          "base_uri": "https://localhost:8080/"
        },
        "id": "Hq-1cXSZI-Ct",
        "outputId": "73f9ed56-967f-4b43-aeab-5f068aae6090"
      },
      "execution_count": null,
      "outputs": [
        {
          "output_type": "stream",
          "name": "stdout",
          "text": [
            "1.  t h r e e\n",
            "2.  re\n",
            "3.  e\n",
            "4.  n\n",
            "5.  three rings for the elven kings, who rule in the sky and fields, seven for the dwarven lords in their house of stones,nine for the mortal men doomed to die, one for the dark lord on his dark thron\n",
            "6.  ee rings for the elven kings, who rule in the sky and fields, seven for the dwarven lords in their house of stones,nine for the mortal men doomed to die, one for the dark lord on his dark throne\n",
            "7.  three rings for the elven kings, who rule in the sky and fields, seven for the dwarven lords in their house of stones,nine for the mortal men doomed to die, one for the dark lord on his dark throne\n",
            "8.  197\n",
            "9.  three rings for the elven kings, who rule in the sky and fields, seven for the dwarven lords in their house of stones,nine for the mortal men doomed to die, one for the dark lord on his dark throne  length:  197\n",
            "10.  three rings for the elven kings, who rule in the sky and fields, seven for the dwarven lords in their house of stones,nine for the mortal men doomed to die, one for the dark lord on his dark throne  length:  197\n",
            "11.  l rd  f the rings lord of the rings\n",
            "12.  ['lord', 'of', 'the', 'rings']\n",
            "13.  1\n",
            "14.  2\n",
            "15.  4\n",
            "16.  LORD OF THE RINGS\n",
            "17.  alibaba\n"
          ]
        }
      ]
    }
  ]
}