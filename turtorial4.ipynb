{
  "nbformat": 4,
  "nbformat_minor": 0,
  "metadata": {
    "colab": {
      "provenance": []
    },
    "kernelspec": {
      "name": "python3",
      "display_name": "Python 3"
    },
    "language_info": {
      "name": "python"
    },
    "gpuClass": "standard",
    "accelerator": "GPU"
  },
  "cells": [
    {
      "cell_type": "markdown",
      "source": [
        "#CodeNevis - Python Basics : conditional statements and loops by Zara"
      ],
      "metadata": {
        "id": "7dU5OlS92R_F"
      }
    },
    {
      "cell_type": "markdown",
      "source": [
        "##what is a condition"
      ],
      "metadata": {
        "id": "Qdo6FBuL_Cle"
      }
    },
    {
      "cell_type": "code",
      "source": [
        "#any statement that has boolean output\n",
        "print(True,1<3,\"a\"in\"canon\",3==4,1!=2)"
      ],
      "metadata": {
        "colab": {
          "base_uri": "https://localhost:8080/"
        },
        "id": "9qiYpqxJ_FOT",
        "outputId": "07ce950b-78d9-4f71-f7e1-66b43cdc38ea"
      },
      "execution_count": null,
      "outputs": [
        {
          "output_type": "stream",
          "name": "stdout",
          "text": [
            "True True True False True\n"
          ]
        }
      ]
    },
    {
      "cell_type": "markdown",
      "source": [
        "##if elif and else"
      ],
      "metadata": {
        "id": "cPUdP2js_aB6"
      }
    },
    {
      "cell_type": "markdown",
      "source": [
        "###if"
      ],
      "metadata": {
        "id": "ltNDA2DP_dpq"
      }
    },
    {
      "cell_type": "code",
      "source": [
        "\"\"\"\n",
        "if(condition):\n",
        "  code that runs if condition is True\n",
        "code that runs anyway\n",
        "\n",
        "\n",
        "MIND THE GAP! AND MIND :\n",
        "\"\"\"\n",
        "a_number=float(input(\"please give me a number : \"))\n",
        "if(a_number<0):\n",
        "  print(\"negative\")\n",
        "print(\"positive\")\n",
        "\n",
        "#what about Zero!"
      ],
      "metadata": {
        "id": "UZDNB0UNAWb2",
        "colab": {
          "base_uri": "https://localhost:8080/"
        },
        "outputId": "af468efc-51ae-4da3-9f46-f388693c13e7"
      },
      "execution_count": null,
      "outputs": [
        {
          "output_type": "stream",
          "name": "stdout",
          "text": [
            "please give me a number : 1\n",
            "positive\n"
          ]
        }
      ]
    },
    {
      "cell_type": "markdown",
      "source": [
        "###if elif"
      ],
      "metadata": {
        "id": "CorHYay2A37f"
      }
    },
    {
      "cell_type": "code",
      "source": [
        "\"\"\"\n",
        "if(condition_A):\n",
        "  code that runs if condition_A is True\n",
        "elif (condition B):\n",
        "  code that runs if condition_A is False AND condition_B is True\n",
        "code that runs anyway\n",
        "\n",
        "MIND THE GAP! AND MIND :\n",
        "\"\"\"\n",
        "a_number=float(input(\"please give me a number : \"))\n",
        "if(a_number<0):\n",
        "  print(\"negative\")\n",
        "elif(a_number>0):\n",
        "  print(\"positive\")\n",
        "print(\"its 0\") #wrong! will see in next sesction\n",
        "\n",
        "\n",
        "# if(not(a_number>0) and (a_number<0)):\n",
        "#   print(\"positive\")"
      ],
      "metadata": {
        "id": "wbZNW8IlBH1t",
        "colab": {
          "base_uri": "https://localhost:8080/"
        },
        "outputId": "6709030d-3d3a-4aa9-97f1-1cce5bd576d4"
      },
      "execution_count": null,
      "outputs": [
        {
          "output_type": "stream",
          "name": "stdout",
          "text": [
            "please give me a number : +1\n",
            "positive\n",
            "its 0\n"
          ]
        }
      ]
    },
    {
      "cell_type": "markdown",
      "source": [
        "if else"
      ],
      "metadata": {
        "id": "LY2yVctsCLPG"
      }
    },
    {
      "cell_type": "code",
      "source": [
        "\"\"\"\n",
        "if(condition_A):\n",
        "  code that runs if condition_A is True\n",
        "else:\n",
        "  code that runs if condition_A is False\n",
        "code that runs anyway\n",
        "\n",
        "MIND THE GAP! AND MIND :\n",
        "\"\"\"\n",
        "a_number=float(input(\"please give me a number : \"))\n",
        "if(a_number<0):\n",
        "  print(\"negative\")\n",
        "else:\n",
        "  print(\"positive or zero\")\n",
        "print(\"the end\")\n",
        "#still wrong, why ?\n",
        "# if(not(a_number>0)):\n",
        "#   print(\"positive or zero\")"
      ],
      "metadata": {
        "id": "klBE45pUCPEe",
        "colab": {
          "base_uri": "https://localhost:8080/"
        },
        "outputId": "d76d8f84-72fc-4628-9d3a-0b0d6034002d"
      },
      "execution_count": null,
      "outputs": [
        {
          "output_type": "stream",
          "name": "stdout",
          "text": [
            "please give me a number : 1\n",
            "positive or zero\n",
            "the end\n"
          ]
        }
      ]
    },
    {
      "cell_type": "markdown",
      "source": [
        "if elif else"
      ],
      "metadata": {
        "id": "WbdceSceC4mv"
      }
    },
    {
      "cell_type": "code",
      "source": [
        "\"\"\"\n",
        "if(condition_A):\n",
        "  code that runs if condition_A is True\n",
        "elif (condition B):\n",
        "  code that runs if condition_A is False AND condition_B is True\n",
        "else:\n",
        "  code that ruuns if condition_A is False AND condition_B is False\n",
        "code that runs anyway\n",
        "\n",
        "MIND THE GAP! AND MIND :\n",
        "\"\"\"\n",
        "# a_number = input(\"please give me a number : \")\n",
        "# if(a_number.lstrip('-').isnumeric() and float(a_number)<0):\n",
        "#   print(\"negative\")\n",
        "# elif(a_number.lstrip('-').isnumeric() and float(a_number)>0):\n",
        "#   print(\"positive\")\n",
        "# elif(a_number.lstrip('-').isnumeric() and float(a_number)==0):\n",
        "#   print(\"its 0\")\n",
        "# else:\n",
        "#   print(\"not a number\")\n",
        "\n",
        "# print(\"end\")\n",
        "#perfect\n",
        "\n",
        "#you should try as hard as you can to avoid errors... \n",
        "# a_number=float(input(\"please give me a number : \"))\n",
        "# if(a_number and a_number<0):\n",
        "#   print(\"negative\")\n",
        "# elif(a_number and a_number>0):\n",
        "#   print(\"positive\")\n",
        "# elif(a_number and a_number==0):\n",
        "#   print(\"its 0\")\n",
        "# else:\n",
        "#   print(\"not a number\")\n",
        "\n",
        "# print(\"end\")\n",
        "\n",
        "\n",
        "#the below is great!\n",
        "an_input=input(\"please give me a number : \")\n",
        "\n",
        "if an_input.lstrip('-+').isnumeric():\n",
        "  a_number=float(an_input)\n",
        "  if(a_number<0):\n",
        "    print(\"negative\")\n",
        "  elif(a_number>0):\n",
        "    print(\"positive\")\n",
        "  elif(a_number==0):\n",
        "    print(\"its 0\")\n",
        "else:\n",
        "  print(\"not a number\")\n",
        "\n",
        "print(\"end\")"
      ],
      "metadata": {
        "colab": {
          "base_uri": "https://localhost:8080/"
        },
        "id": "189jEQrhC38W",
        "outputId": "70d416e5-325e-4150-9049-24bebd7e6a49"
      },
      "execution_count": null,
      "outputs": [
        {
          "output_type": "stream",
          "name": "stdout",
          "text": [
            "please give me a number : +1\n",
            "positive\n",
            "end\n"
          ]
        }
      ]
    },
    {
      "cell_type": "markdown",
      "source": [
        "###nested if"
      ],
      "metadata": {
        "id": "03J85smkGvT_"
      }
    },
    {
      "cell_type": "code",
      "source": [
        "if 100>1:\n",
        "  if 100>2:\n",
        "    if 100>3:\n",
        "      print(\"100 is more than 1 and 2 and 3 so we could easily use if(100>1 and 100>2 and 100>3)\")"
      ],
      "metadata": {
        "id": "9e5NCYAoGxD_",
        "colab": {
          "base_uri": "https://localhost:8080/"
        },
        "outputId": "6564e708-9743-43e9-bb35-439ca81ac0bb"
      },
      "execution_count": null,
      "outputs": [
        {
          "output_type": "stream",
          "name": "stdout",
          "text": [
            "100 is more than 1 and 2 and 3 so we could easily use if(100>1 and 100>2 and 100>3)\n"
          ]
        }
      ]
    },
    {
      "cell_type": "markdown",
      "source": [
        "in above we could easily use <= or >= but we wanted to try things"
      ],
      "metadata": {
        "id": "T7Mqqx7nGbfw"
      }
    },
    {
      "cell_type": "markdown",
      "source": [
        "##while"
      ],
      "metadata": {
        "id": "VnKhbWvFHAif"
      }
    },
    {
      "cell_type": "markdown",
      "source": [
        "why to put nested ifs to make sure the user adds number"
      ],
      "metadata": {
        "id": "MXpEwtF-VuRr"
      }
    },
    {
      "cell_type": "code",
      "source": [
        "\"\"\"\n",
        "while (condition) :\n",
        "  code runs until condition becomes false\n",
        "else:\n",
        "  code runs if the condition is wrong\n",
        "\"\"\"\n",
        "\n",
        "an_input=input(\"please give me a number... A god damn number and nothing else... ok ? : \")\n",
        "while(not an_input.lstrip('-+').isnumeric()):\n",
        "  an_input=input(\"are you joking ? ... A god damn number : \")\n",
        "else:\n",
        "  print(\"thank you... see... it wasnt hard!\")"
      ],
      "metadata": {
        "colab": {
          "base_uri": "https://localhost:8080/"
        },
        "id": "ttZ0Kir3HCfH",
        "outputId": "2d3a8204-65d7-4ecb-8935-b3cd4b86b0c9"
      },
      "execution_count": null,
      "outputs": [
        {
          "output_type": "stream",
          "name": "stdout",
          "text": [
            "please give me a number... A god damn number and nothing else... ok ? : a\n",
            "are you joking ? ... A god damn number : e\n",
            "are you joking ? ... A god damn number : t\n",
            "are you joking ? ... A god damn number : w\n",
            "are you joking ? ... A god damn number : 1\n",
            "thank you... see... it wasnt hard!\n"
          ]
        }
      ]
    },
    {
      "cell_type": "code",
      "source": [
        "a_list=[1,2,3,4]\n",
        "while(len(a_list)>0):\n",
        "  print(a_list)\n",
        "  a_list.remove(a_list[0])\n",
        "else:\n",
        "  print(\"list is empty\",a_list)"
      ],
      "metadata": {
        "colab": {
          "base_uri": "https://localhost:8080/"
        },
        "id": "Vo9Y0BvVPa8i",
        "outputId": "34d1835d-e098-45b7-93ec-ad2a9c3afba1"
      },
      "execution_count": null,
      "outputs": [
        {
          "output_type": "stream",
          "name": "stdout",
          "text": [
            "[1, 2, 3, 4]\n",
            "[2, 3, 4]\n",
            "[3, 4]\n",
            "[4]\n",
            "list is empty []\n"
          ]
        }
      ]
    },
    {
      "cell_type": "markdown",
      "source": [
        "break and continue"
      ],
      "metadata": {
        "id": "3jhIKxqSWbBi"
      }
    },
    {
      "cell_type": "code",
      "source": [
        "a_list=[1,2,3,4,5,6,7,8,9]\n",
        "while(len(a_list)>0):\n",
        "  print(a_list)\n",
        "  \n",
        "  if(a_list[0]%2==1):\n",
        "    temp=a_list[1]\n",
        "    a_list[1]=a_list[0]\n",
        "    a_list[0]=temp\n",
        "\n",
        "  if(a_list[0]==7):\n",
        "    break\n",
        "  \n",
        "  a_list.remove(a_list[0])\n",
        "else:\n",
        "  print(\"list is empty\",a_list)"
      ],
      "metadata": {
        "colab": {
          "base_uri": "https://localhost:8080/"
        },
        "id": "JDX8LcAuQCgp",
        "outputId": "d2e4f75d-c50b-4659-cdb5-229035d9d6f6"
      },
      "execution_count": null,
      "outputs": [
        {
          "output_type": "stream",
          "name": "stdout",
          "text": [
            "[1, 2, 3, 4, 5, 6, 7, 8, 9]\n",
            "[1, 3, 4, 5, 6, 7, 8, 9]\n",
            "[1, 4, 5, 6, 7, 8, 9]\n",
            "[1, 5, 6, 7, 8, 9]\n",
            "[1, 6, 7, 8, 9]\n",
            "[1, 7, 8, 9]\n"
          ]
        }
      ]
    },
    {
      "cell_type": "markdown",
      "source": [
        "##for"
      ],
      "metadata": {
        "id": "4VABixKkHN0Z"
      }
    },
    {
      "cell_type": "markdown",
      "source": [
        "range"
      ],
      "metadata": {
        "id": "5Dmpe5mPW87K"
      }
    },
    {
      "cell_type": "code",
      "source": [
        "\"\"\"\n",
        "for (iteration) :\n",
        "  code runs until itteration ends\n",
        "\"\"\"\n",
        "print(list(range(10)))\n",
        "print(list(range(-2,10)))\n",
        "print(list(range(len([4,6,7]))))"
      ],
      "metadata": {
        "colab": {
          "base_uri": "https://localhost:8080/"
        },
        "id": "yGcS0B_9SJQC",
        "outputId": "66360d55-db86-40e4-b0cf-d683b2eba1e7"
      },
      "execution_count": null,
      "outputs": [
        {
          "output_type": "stream",
          "name": "stdout",
          "text": [
            "[0, 1, 2, 3, 4, 5, 6, 7, 8, 9]\n",
            "[-2, -1, 0, 1, 2, 3, 4, 5, 6, 7, 8, 9]\n",
            "[0, 1, 2]\n"
          ]
        }
      ]
    },
    {
      "cell_type": "code",
      "source": [
        "for i in range(-10,10):\n",
        "  print(i)"
      ],
      "metadata": {
        "colab": {
          "base_uri": "https://localhost:8080/"
        },
        "id": "V0WUJKVVS8MR",
        "outputId": "f085c9ed-8def-43e9-981b-724c4677f5fb"
      },
      "execution_count": null,
      "outputs": [
        {
          "output_type": "stream",
          "name": "stdout",
          "text": [
            "-10\n",
            "-9\n",
            "-8\n",
            "-7\n",
            "-6\n",
            "-5\n",
            "-4\n",
            "-3\n",
            "-2\n",
            "-1\n",
            "0\n",
            "1\n",
            "2\n",
            "3\n",
            "4\n",
            "5\n",
            "6\n",
            "7\n",
            "8\n",
            "9\n"
          ]
        }
      ]
    },
    {
      "cell_type": "markdown",
      "source": [
        "break and continue"
      ],
      "metadata": {
        "id": "bsO0UacjbGLU"
      }
    },
    {
      "cell_type": "code",
      "source": [
        "a_list=[1,2,3,4,5,6,7,8,9,10]\n",
        "for i in range(len(a_list)):\n",
        "  print(a_list)\n",
        "  if(a_list[i]==6):\n",
        "    break\n",
        "  else:\n",
        "    if(a_list[i]%2==0):\n",
        "      continue\n",
        "    a_list[i]=0\n",
        "    "
      ],
      "metadata": {
        "colab": {
          "base_uri": "https://localhost:8080/"
        },
        "id": "avJUyUzMXOWq",
        "outputId": "10f0c8c2-7086-4d58-9603-0a5745c8eb83"
      },
      "execution_count": null,
      "outputs": [
        {
          "output_type": "stream",
          "name": "stdout",
          "text": [
            "[1, 2, 3, 4, 5, 6, 7, 8, 9, 10]\n",
            "[0, 2, 3, 4, 5, 6, 7, 8, 9, 10]\n",
            "[0, 2, 3, 4, 5, 6, 7, 8, 9, 10]\n",
            "[0, 2, 0, 4, 5, 6, 7, 8, 9, 10]\n",
            "[0, 2, 0, 4, 5, 6, 7, 8, 9, 10]\n",
            "[0, 2, 0, 4, 0, 6, 7, 8, 9, 10]\n"
          ]
        }
      ]
    },
    {
      "cell_type": "markdown",
      "source": [
        "to work with lists"
      ],
      "metadata": {
        "id": "dfqaORT-XQLr"
      }
    },
    {
      "cell_type": "code",
      "source": [
        "list_of_names=[]\n",
        "for i in range(3):\n",
        "  list_of_names.append(input(\"please give me the\"+str(i)+\"st fist name \"))\n",
        "\n",
        "hello_list=[]\n",
        "for i in list_of_names:\n",
        "  hello_list.append(\"Hello \" + i)\n",
        "\n",
        "for i in range(len(hello_list)):\n",
        "  print(i,\" \",hello_list[i])"
      ],
      "metadata": {
        "colab": {
          "base_uri": "https://localhost:8080/"
        },
        "id": "_oRxa2t2TWzi",
        "outputId": "c04f4a79-c834-4d94-c925-7bf63bf5ff7a"
      },
      "execution_count": null,
      "outputs": [
        {
          "output_type": "stream",
          "name": "stdout",
          "text": [
            "please give me the0st fist name Zara\n",
            "please give me the1st fist name Moji\n",
            "please give me the2st fist name Sauron\n",
            "0   Hello Zara\n",
            "1   Hello Moji\n",
            "2   Hello Sauron\n"
          ]
        }
      ]
    },
    {
      "cell_type": "markdown",
      "source": [
        "also we can work with tuple and dict"
      ],
      "metadata": {
        "id": "nNjAbjFuXS_7"
      }
    },
    {
      "cell_type": "code",
      "source": [
        "a_dict={\"a\":1,\"b\":2,\"c\":3}\n",
        "a_tuple=(\"A\",\"B\",\"C\")\n",
        "for i in a_tuple:\n",
        "  print(i)\n",
        "\n",
        "for j in a_dict.keys():\n",
        "  print(j,\" \",a_dict[j])"
      ],
      "metadata": {
        "colab": {
          "base_uri": "https://localhost:8080/"
        },
        "id": "uZZ_ZxxIXVS6",
        "outputId": "7d4a478d-f937-4326-cebd-79fd223c6174"
      },
      "execution_count": null,
      "outputs": [
        {
          "output_type": "stream",
          "name": "stdout",
          "text": [
            "A\n",
            "B\n",
            "C\n",
            "a   1\n",
            "b   2\n",
            "c   3\n"
          ]
        }
      ]
    },
    {
      "cell_type": "markdown",
      "source": [
        "build list "
      ],
      "metadata": {
        "id": "X2M-e93oXWPy"
      }
    },
    {
      "cell_type": "code",
      "source": [
        "a_list= [1 for i in range(10)]\n",
        "print(a_list)\n",
        "a_list= [i*2 for i in range(5)]\n",
        "print(a_list)\n",
        "a_list= [i for i in range(10) if i%2==1]\n",
        "print(a_list)\n",
        "\n",
        "animals=\"awolf abird alion atiger\"\n",
        "a_list= [i.replace(\"a\",\"\") for i in animals.split(\" \")]\n",
        "print(a_list)"
      ],
      "metadata": {
        "colab": {
          "base_uri": "https://localhost:8080/"
        },
        "id": "k2d0_M0mHPG_",
        "outputId": "11b02fb6-4acf-4c2b-9d14-492283cc8f9e"
      },
      "execution_count": null,
      "outputs": [
        {
          "output_type": "stream",
          "name": "stdout",
          "text": [
            "[1, 1, 1, 1, 1, 1, 1, 1, 1, 1]\n",
            "[0, 2, 4, 6, 8]\n",
            "[1, 3, 5, 7, 9]\n",
            "['wolf', 'bird', 'lion', 'tiger']\n"
          ]
        }
      ]
    },
    {
      "cell_type": "markdown",
      "source": [
        "remains : functions,class,try catch,work with files, API.<br>\n",
        "special boring video : how to install python on windows/linux, what is python. and how to run .py ONLY FOR THOSE WHO WANT TO BECOME PROFESSIONAL<br>\n",
        "then you can Code :)"
      ],
      "metadata": {
        "id": "jk8Y76cPct8k"
      }
    }
  ]
}