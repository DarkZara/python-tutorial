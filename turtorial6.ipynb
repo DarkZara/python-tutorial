{
  "nbformat": 4,
  "nbformat_minor": 0,
  "metadata": {
    "colab": {
      "provenance": []
    },
    "kernelspec": {
      "name": "python3",
      "display_name": "Python 3"
    },
    "language_info": {
      "name": "python"
    },
    "gpuClass": "standard",
    "accelerator": "GPU"
  },
  "cells": [
    {
      "cell_type": "markdown",
      "source": [
        "#CodeNevis - Python Basics : Classes, مرگ یکبار شیون هم یکبار\n",
        "#part1"
      ],
      "metadata": {
        "id": "7dU5OlS92R_F"
      }
    },
    {
      "cell_type": "markdown",
      "source": [
        "##what is a class"
      ],
      "metadata": {
        "id": "Qdo6FBuL_Cle"
      }
    },
    {
      "cell_type": "code",
      "source": [
        "number_of_arms=4\n",
        "number_of_horns=2\n",
        "race=\"mamals\"\n",
        "name=\"zi zi golo\"\n",
        "def give_birth(num_children):\n",
        "  return num_children+1\n",
        "\n",
        "num_children = 3\n",
        "num_children = give_birth(num_children)\n",
        "\n",
        "#relation ?\n",
        "print(number_of_arms,number_of_horns,race,name,num_children)\n",
        "\n",
        "class Animal():\n",
        "  number_of_arms=0\n",
        "  number_of_horns=2\n",
        "  race=\"\"\n",
        "  name=\"\"\n",
        "  num_children=0\n",
        "  def give_birth(self):\n",
        "    self.num_children = self.num_children+1\n",
        "\n",
        "zizigolo=Animal()\n",
        "zizigolo.number_of_arms=4\n",
        "zizigolo.number_of_horns=2\n",
        "zizigolo.race=\"mamals\"\n",
        "zizigolo.name=\"zi zi golo\"\n",
        "zizigolo.num_children=0\n",
        "print(zizigolo.num_children)\n",
        "zizigolo.give_birth()\n",
        "\n",
        "print(zizigolo,\"\\n\",zizigolo.number_of_arms,zizigolo.number_of_horns,zizigolo.race,name,zizigolo.num_children)"
      ],
      "metadata": {
        "id": "9qiYpqxJ_FOT",
        "colab": {
          "base_uri": "https://localhost:8080/"
        },
        "outputId": "cb3ea9c6-669c-4403-cb6c-d23d543ae5ca"
      },
      "execution_count": 1,
      "outputs": [
        {
          "output_type": "stream",
          "name": "stdout",
          "text": [
            "4 2 mamals zi zi golo 4\n",
            "0\n",
            "<__main__.Animal object at 0x7fa25db1a470> \n",
            " 4 2 mamals zi zi golo 1\n"
          ]
        }
      ]
    },
    {
      "cell_type": "markdown",
      "source": [
        "##attributes"
      ],
      "metadata": {
        "id": "cPUdP2js_aB6"
      }
    },
    {
      "cell_type": "markdown",
      "source": [
        "###return and void"
      ],
      "metadata": {
        "id": "ltNDA2DP_dpq"
      }
    },
    {
      "cell_type": "code",
      "source": [
        "\"\"\"\n",
        "class name:\n",
        "  define vars \n",
        "define object as object = name_of_class()\n",
        "object.var\n",
        "\n",
        "\n",
        "MIND THE GAP! AND MIND :\n",
        "\"\"\"\n",
        "class Employee:\n",
        "  name=\"\"\n",
        "  height=0\n",
        "  salary=0\n",
        "\n",
        "employee_1=Employee()\n",
        "print(\"1.\",employee_1,\"     \",employee_1.height)\n",
        "employee_2=Employee()\n",
        "employee_1.name = \"Voldemort\"\n",
        "height=1.68\n",
        "employee_1.height=height\n",
        "employee_1.salary=5000\n",
        "print(\"2.\",employee_1,\"     \",employee_1.name,employee_1.height,employee_1.salary)\n",
        "print(\"3.\",employee_2,\"     \",employee_2.name,employee_2.height,employee_2.salary)"
      ],
      "metadata": {
        "id": "UZDNB0UNAWb2",
        "colab": {
          "base_uri": "https://localhost:8080/"
        },
        "outputId": "2334fe86-89ec-4fcf-9d59-9e979a49aa43"
      },
      "execution_count": 3,
      "outputs": [
        {
          "output_type": "stream",
          "name": "stdout",
          "text": [
            "1. <__main__.Employee object at 0x7fa25db1ab00>       0\n",
            "2. <__main__.Employee object at 0x7fa25db1ab00>       Voldemort 1.68 5000\n",
            "3. <__main__.Employee object at 0x7fa25db1b0d0>        0 0\n"
          ]
        }
      ]
    },
    {
      "cell_type": "markdown",
      "source": [
        "init - constructor"
      ],
      "metadata": {
        "id": "cyk_sVCtNvVK"
      }
    },
    {
      "cell_type": "code",
      "source": [
        "dir(Employee)"
      ],
      "metadata": {
        "colab": {
          "base_uri": "https://localhost:8080/"
        },
        "id": "suoX63YLPX3G",
        "outputId": "f6ec50ec-78d2-4171-fc90-a541f8849a5a"
      },
      "execution_count": 4,
      "outputs": [
        {
          "output_type": "execute_result",
          "data": {
            "text/plain": [
              "['__class__',\n",
              " '__delattr__',\n",
              " '__dict__',\n",
              " '__dir__',\n",
              " '__doc__',\n",
              " '__eq__',\n",
              " '__format__',\n",
              " '__ge__',\n",
              " '__getattribute__',\n",
              " '__gt__',\n",
              " '__hash__',\n",
              " '__init__',\n",
              " '__init_subclass__',\n",
              " '__le__',\n",
              " '__lt__',\n",
              " '__module__',\n",
              " '__ne__',\n",
              " '__new__',\n",
              " '__reduce__',\n",
              " '__reduce_ex__',\n",
              " '__repr__',\n",
              " '__setattr__',\n",
              " '__sizeof__',\n",
              " '__str__',\n",
              " '__subclasshook__',\n",
              " '__weakref__',\n",
              " 'height',\n",
              " 'name',\n",
              " 'salary']"
            ]
          },
          "metadata": {},
          "execution_count": 4
        }
      ]
    },
    {
      "cell_type": "code",
      "source": [
        "class Employee:\n",
        "  def __init__(self, name = \"\" , height=0 , salary=0):\n",
        "        self.name = name\n",
        "        self.height = height\n",
        "        self.salary = salary\n",
        "employee_1=Employee()\n",
        "print(\"1.\",employee_1,\"     \",employee_1.name,employee_1.height,employee_1.salary)\n",
        "employee_2=Employee(\"darth vader\",1.89,5000)\n",
        "print(\"2.\",employee_2,\"     \",employee_2.name,employee_2.height,employee_2.salary)\n",
        "employee_2.salary=5003\n",
        "print(\"3.\",employee_2,\"     \",employee_2.name,employee_2.height,employee_2.salary)"
      ],
      "metadata": {
        "colab": {
          "base_uri": "https://localhost:8080/"
        },
        "id": "8QXLGoEfNuO_",
        "outputId": "d24657f3-b43b-45e6-859d-521e36fd0755"
      },
      "execution_count": 5,
      "outputs": [
        {
          "output_type": "stream",
          "name": "stdout",
          "text": [
            "1. <__main__.Employee object at 0x7fa25db187f0>        0 0\n",
            "2. <__main__.Employee object at 0x7fa25db1add0>       darth vader 1.89 5000\n",
            "3. <__main__.Employee object at 0x7fa25db1add0>       darth vader 1.89 5003\n"
          ]
        }
      ]
    },
    {
      "cell_type": "markdown",
      "source": [
        "setters and getters"
      ],
      "metadata": {
        "id": "jqY_1M6yNTS0"
      }
    },
    {
      "cell_type": "code",
      "source": [
        "dir(Employee)"
      ],
      "metadata": {
        "colab": {
          "base_uri": "https://localhost:8080/"
        },
        "id": "6yyIrgEdNSvT",
        "outputId": "536cd8d0-4af9-4b2e-a17d-3a525537c178"
      },
      "execution_count": 6,
      "outputs": [
        {
          "output_type": "execute_result",
          "data": {
            "text/plain": [
              "['__class__',\n",
              " '__delattr__',\n",
              " '__dict__',\n",
              " '__dir__',\n",
              " '__doc__',\n",
              " '__eq__',\n",
              " '__format__',\n",
              " '__ge__',\n",
              " '__getattribute__',\n",
              " '__gt__',\n",
              " '__hash__',\n",
              " '__init__',\n",
              " '__init_subclass__',\n",
              " '__le__',\n",
              " '__lt__',\n",
              " '__module__',\n",
              " '__ne__',\n",
              " '__new__',\n",
              " '__reduce__',\n",
              " '__reduce_ex__',\n",
              " '__repr__',\n",
              " '__setattr__',\n",
              " '__sizeof__',\n",
              " '__str__',\n",
              " '__subclasshook__',\n",
              " '__weakref__']"
            ]
          },
          "metadata": {},
          "execution_count": 6
        }
      ]
    },
    {
      "cell_type": "code",
      "source": [
        "class Employee:\n",
        "  def __init__(self, name = \"\" , height=0 , salary=0):\n",
        "        self.__name = name\n",
        "        self.__height = height\n",
        "        self.__salary = salary\n",
        "employee_1=Employee()\n",
        "print(\"1.\",employee_1,\"     \",employee_1.__name,employee_1.__height,employee_1.__salary)\n",
        "employee_2=Employee(\"darth vader\",1.89,5000)\n",
        "print(\"2.\",employee_2,\"     \",employee_2.__name,employee_2.__height,employee_2.__salary)\n",
        "employee_2.__salary=5003\n",
        "print(\"3.\",employee_2,\"     \",employee_2.__name,employee_2.__height,employee_2.__salary)\n",
        "\n",
        "#although it throwsa error , its very cool!"
      ],
      "metadata": {
        "colab": {
          "base_uri": "https://localhost:8080/",
          "height": 235
        },
        "id": "LzcC1ViyNop3",
        "outputId": "a1bd2a33-1e8b-4f3f-9ae9-f1e402911a97"
      },
      "execution_count": 7,
      "outputs": [
        {
          "output_type": "error",
          "ename": "AttributeError",
          "evalue": "ignored",
          "traceback": [
            "\u001b[0;31m---------------------------------------------------------------------------\u001b[0m",
            "\u001b[0;31mAttributeError\u001b[0m                            Traceback (most recent call last)",
            "\u001b[0;32m<ipython-input-7-06579502f75b>\u001b[0m in \u001b[0;36m<cell line: 7>\u001b[0;34m()\u001b[0m\n\u001b[1;32m      5\u001b[0m         \u001b[0mself\u001b[0m\u001b[0;34m.\u001b[0m\u001b[0m__salary\u001b[0m \u001b[0;34m=\u001b[0m \u001b[0msalary\u001b[0m\u001b[0;34m\u001b[0m\u001b[0;34m\u001b[0m\u001b[0m\n\u001b[1;32m      6\u001b[0m \u001b[0memployee_1\u001b[0m\u001b[0;34m=\u001b[0m\u001b[0mEmployee\u001b[0m\u001b[0;34m(\u001b[0m\u001b[0;34m)\u001b[0m\u001b[0;34m\u001b[0m\u001b[0;34m\u001b[0m\u001b[0m\n\u001b[0;32m----> 7\u001b[0;31m \u001b[0mprint\u001b[0m\u001b[0;34m(\u001b[0m\u001b[0;34m\"1.\"\u001b[0m\u001b[0;34m,\u001b[0m\u001b[0memployee_1\u001b[0m\u001b[0;34m,\u001b[0m\u001b[0;34m\"     \"\u001b[0m\u001b[0;34m,\u001b[0m\u001b[0memployee_1\u001b[0m\u001b[0;34m.\u001b[0m\u001b[0m__name\u001b[0m\u001b[0;34m,\u001b[0m\u001b[0memployee_1\u001b[0m\u001b[0;34m.\u001b[0m\u001b[0m__height\u001b[0m\u001b[0;34m,\u001b[0m\u001b[0memployee_1\u001b[0m\u001b[0;34m.\u001b[0m\u001b[0m__salary\u001b[0m\u001b[0;34m)\u001b[0m\u001b[0;34m\u001b[0m\u001b[0;34m\u001b[0m\u001b[0m\n\u001b[0m\u001b[1;32m      8\u001b[0m \u001b[0memployee_2\u001b[0m\u001b[0;34m=\u001b[0m\u001b[0mEmployee\u001b[0m\u001b[0;34m(\u001b[0m\u001b[0;34m\"darth vader\"\u001b[0m\u001b[0;34m,\u001b[0m\u001b[0;36m1.89\u001b[0m\u001b[0;34m,\u001b[0m\u001b[0;36m5000\u001b[0m\u001b[0;34m)\u001b[0m\u001b[0;34m\u001b[0m\u001b[0;34m\u001b[0m\u001b[0m\n\u001b[1;32m      9\u001b[0m \u001b[0mprint\u001b[0m\u001b[0;34m(\u001b[0m\u001b[0;34m\"2.\"\u001b[0m\u001b[0;34m,\u001b[0m\u001b[0memployee_2\u001b[0m\u001b[0;34m,\u001b[0m\u001b[0;34m\"     \"\u001b[0m\u001b[0;34m,\u001b[0m\u001b[0memployee_2\u001b[0m\u001b[0;34m.\u001b[0m\u001b[0m__name\u001b[0m\u001b[0;34m,\u001b[0m\u001b[0memployee_2\u001b[0m\u001b[0;34m.\u001b[0m\u001b[0m__height\u001b[0m\u001b[0;34m,\u001b[0m\u001b[0memployee_2\u001b[0m\u001b[0;34m.\u001b[0m\u001b[0m__salary\u001b[0m\u001b[0;34m)\u001b[0m\u001b[0;34m\u001b[0m\u001b[0;34m\u001b[0m\u001b[0m\n",
            "\u001b[0;31mAttributeError\u001b[0m: 'Employee' object has no attribute '__name'"
          ]
        }
      ]
    },
    {
      "cell_type": "code",
      "source": [
        "class Employee:\n",
        "  def __init__(self, name = \"\" , height=0 , salary=0):\n",
        "        self.__name = name\n",
        "        self.__height = height\n",
        "        self.__salary = salary\n",
        "  @property\n",
        "  def get_name(self):\n",
        "        help = \"names getter\"\n",
        "        return self.__name\n",
        "\n",
        "  def set_name(self, value):\n",
        "        help = \"names setter\"\n",
        "        self.__name = value\n",
        "\n",
        "  def del_name(self):\n",
        "        del self.__name\n",
        "  \n",
        "  @property\n",
        "  def get_height(self):\n",
        "        help = \"heights getter\"\n",
        "        return self.__height\n",
        "\n",
        "  def set_height(self, value):\n",
        "        help = \"heights setter\"\n",
        "        self.__height = value\n",
        "\n",
        "  def del_height(self):\n",
        "        del self.__height\n",
        "\n",
        "  @property\n",
        "  def get_salary(self):\n",
        "        help = \"salarys getter\"\n",
        "        return self.__salary\n",
        "\n",
        "  def set_salary(self, value):\n",
        "        help = \"salarys setter\"\n",
        "        self.__salary = value\n",
        "\n",
        "  def del_salary(self):\n",
        "        del self.__salary\n",
        "        \n",
        "employee_1=Employee()\n",
        "print(\"1.\",employee_1,\"     \",employee_1.get_name,employee_1.get_height,employee_1.get_salary)\n",
        "employee_2=Employee(\"darth vader\",1.89,5000)\n",
        "print(\"2.\",employee_2,\"     \",employee_2.get_name,employee_2.get_height,employee_2.get_salary)\n",
        "employee_2.set_salary(5003)\n",
        "print(\"3.\",employee_2,\"     \",employee_2.get_name,employee_2.get_height,employee_2.get_salary)\n",
        "\n",
        "#so we can make things alot secured. we can control the flow."
      ],
      "metadata": {
        "colab": {
          "base_uri": "https://localhost:8080/"
        },
        "id": "_L2T232YPvx0",
        "outputId": "3e1d2527-d737-4658-92a9-af1a64c0ea85"
      },
      "execution_count": 8,
      "outputs": [
        {
          "output_type": "stream",
          "name": "stdout",
          "text": [
            "1. <__main__.Employee object at 0x7fa25db4efe0>        0 0\n",
            "2. <__main__.Employee object at 0x7fa25db4c100>       darth vader 1.89 5000\n",
            "3. <__main__.Employee object at 0x7fa25db4c100>       darth vader 1.89 5003\n"
          ]
        }
      ]
    },
    {
      "cell_type": "markdown",
      "source": [
        "##Functions"
      ],
      "metadata": {
        "id": "CorHYay2A37f"
      }
    },
    {
      "cell_type": "code",
      "source": [
        "\"\"\"\n",
        "class name:\n",
        "  define functions \n",
        "define object as object = name_of_class()\n",
        "object.function()\n",
        "\n",
        "\n",
        "MIND THE GAP! AND MIND :\n",
        "\"\"\"\n",
        "\n",
        "class Rect:\n",
        "  def __init__(self,height,width,name=\"example\"):\n",
        "    self.height = height\n",
        "    self.width = width\n",
        "    self.name = name\n",
        "  \n",
        "  def cal_area(self):\n",
        "    return self.width * self.height\n",
        "\n",
        "rect_1 = Rect(10,20,\"Oz\")\n",
        "print(rect_1.cal_area())"
      ],
      "metadata": {
        "id": "wbZNW8IlBH1t",
        "colab": {
          "base_uri": "https://localhost:8080/"
        },
        "outputId": "ab6e5238-3ac3-458c-ab12-5de0bd0848ef"
      },
      "execution_count": 9,
      "outputs": [
        {
          "output_type": "stream",
          "name": "stdout",
          "text": [
            "200\n"
          ]
        }
      ]
    },
    {
      "cell_type": "code",
      "source": [
        "class Rect:\n",
        "  def __init__(self,height,width,name=\"example\"):\n",
        "    self.height = height\n",
        "    self.width = width\n",
        "    self.name = name\n",
        "  \n",
        "  def cal_area(self):\n",
        "    self.area = self.width * self.height\n",
        "    return self.width * self.height\n",
        "\n",
        "rect_1 = Rect(10,20,\"Oz\")\n",
        "# print(rect_1.area)\n",
        "print(rect_1.cal_area())\n",
        "print(rect_1.area)"
      ],
      "metadata": {
        "colab": {
          "base_uri": "https://localhost:8080/"
        },
        "id": "ngNGR5O_Si0c",
        "outputId": "bfbbf869-04b7-4b50-c541-b60150dda797"
      },
      "execution_count": 10,
      "outputs": [
        {
          "output_type": "stream",
          "name": "stdout",
          "text": [
            "200\n",
            "200\n"
          ]
        }
      ]
    },
    {
      "cell_type": "markdown",
      "source": [
        "##Special Functions"
      ],
      "metadata": {
        "id": "vPfh9zyCTxfm"
      }
    },
    {
      "cell_type": "code",
      "source": [
        "class Rect:\n",
        "  def __init__(self,height,width,name=\"example\"):\n",
        "    self.height = height\n",
        "    self.width = width\n",
        "    self.name = name\n",
        "    print(\"created a rectangle\")\n",
        "  \n",
        "  def __str__(self):\n",
        "    return \"im a rect with measures of ({0},{1})\".format(self.height, self.width)\n",
        "\n",
        "  def __len__(self):\n",
        "    return len(self.name)\n",
        "\n",
        "  def cal_area(self):\n",
        "    self.area = self.width * self.height\n",
        "    return self.width * self.height\n",
        "\n",
        "a_rect = Rect(15,8,\"rectangle\")#init worked\n",
        "print(a_rect)#str worked\n",
        "print(len(a_rect))#len worked"
      ],
      "metadata": {
        "colab": {
          "base_uri": "https://localhost:8080/"
        },
        "id": "d54NxffKWGhr",
        "outputId": "52826294-1f10-4e48-c5e2-44136f35c8b4"
      },
      "execution_count": 12,
      "outputs": [
        {
          "output_type": "stream",
          "name": "stdout",
          "text": [
            "created a rectangle\n",
            "im a rect with measures of (15,8)\n",
            "9\n"
          ]
        }
      ]
    },
    {
      "cell_type": "markdown",
      "source": [
        "## Operators"
      ],
      "metadata": {
        "id": "LY2yVctsCLPG"
      }
    },
    {
      "cell_type": "code",
      "source": [
        "class Rect:\n",
        "  def __init__(self,height,width,name=\"example\"):\n",
        "    self.height = height\n",
        "    self.width = width\n",
        "    self.name = name\n",
        "  \n",
        "  def cal_area(self):\n",
        "    self.area = self.width * self.height\n",
        "    return self.width * self.height\n",
        "\n",
        "rect_1 = Rect(10,20,\"Oz\")\n",
        "rect_2 = Rect(20,10,\"another Oz\")\n",
        "rect_1+rect_2"
      ],
      "metadata": {
        "id": "klBE45pUCPEe",
        "colab": {
          "base_uri": "https://localhost:8080/",
          "height": 200
        },
        "outputId": "28342030-ece9-4212-b934-a9fdd0e00c12"
      },
      "execution_count": 13,
      "outputs": [
        {
          "output_type": "error",
          "ename": "TypeError",
          "evalue": "ignored",
          "traceback": [
            "\u001b[0;31m---------------------------------------------------------------------------\u001b[0m",
            "\u001b[0;31mTypeError\u001b[0m                                 Traceback (most recent call last)",
            "\u001b[0;32m<ipython-input-13-e8893519adc2>\u001b[0m in \u001b[0;36m<cell line: 13>\u001b[0;34m()\u001b[0m\n\u001b[1;32m     11\u001b[0m \u001b[0mrect_1\u001b[0m \u001b[0;34m=\u001b[0m \u001b[0mRect\u001b[0m\u001b[0;34m(\u001b[0m\u001b[0;36m10\u001b[0m\u001b[0;34m,\u001b[0m\u001b[0;36m20\u001b[0m\u001b[0;34m,\u001b[0m\u001b[0;34m\"Oz\"\u001b[0m\u001b[0;34m)\u001b[0m\u001b[0;34m\u001b[0m\u001b[0;34m\u001b[0m\u001b[0m\n\u001b[1;32m     12\u001b[0m \u001b[0mrect_2\u001b[0m \u001b[0;34m=\u001b[0m \u001b[0mRect\u001b[0m\u001b[0;34m(\u001b[0m\u001b[0;36m20\u001b[0m\u001b[0;34m,\u001b[0m\u001b[0;36m10\u001b[0m\u001b[0;34m,\u001b[0m\u001b[0;34m\"another Oz\"\u001b[0m\u001b[0;34m)\u001b[0m\u001b[0;34m\u001b[0m\u001b[0;34m\u001b[0m\u001b[0m\n\u001b[0;32m---> 13\u001b[0;31m \u001b[0mrect_1\u001b[0m\u001b[0;34m+\u001b[0m\u001b[0mrect_2\u001b[0m\u001b[0;34m\u001b[0m\u001b[0;34m\u001b[0m\u001b[0m\n\u001b[0m",
            "\u001b[0;31mTypeError\u001b[0m: unsupported operand type(s) for +: 'Rect' and 'Rect'"
          ]
        }
      ]
    },
    {
      "cell_type": "code",
      "source": [
        "\"\"\"\n",
        "+     __add__\n",
        "-     __sub__\n",
        "*     __mul__\n",
        "**    __pow__\n",
        "/     __truediv__\n",
        "//    __floordiv__\n",
        "%     __mod__\n",
        "&     __and__\n",
        "|     __or__\n",
        "~     __invert__\n",
        "<     __lt__\n",
        "<=    __le__\n",
        "==    __eq__\n",
        "!=    __nq__\n",
        ">     __gt__\n",
        ">=    __ge__\n",
        "\"\"\""
      ],
      "metadata": {
        "id": "9GrNkEWkT1o3"
      },
      "execution_count": null,
      "outputs": []
    },
    {
      "cell_type": "code",
      "source": [
        "class Rect:\n",
        "  def __init__(self,height,width,name=\"example\"):\n",
        "    self.height = height\n",
        "    self.width = width\n",
        "    self.name = name\n",
        "  \n",
        "  def cal_area(self):\n",
        "    self.area = self.width * self.height\n",
        "    return self.width * self.height\n",
        "\n",
        "  def __add__(self,another_class):\n",
        "    new_rect=Rect(self.height+another_class.height,\n",
        "                  self.width+another_class.width,\n",
        "                  self.name+\" Combined with \"+another_class.name)\n",
        "    return new_rect\n",
        "rect_1 = Rect(10,20,\"Oz\")\n",
        "rect_2 = Rect(20,10,\"another Oz\")\n",
        "rect3=rect_1+rect_2\n",
        "print(rect3,\" \",rect3.width,\" \",rect3.height, \" \",rect3.name, \" \",rect3.cal_area)"
      ],
      "metadata": {
        "colab": {
          "base_uri": "https://localhost:8080/"
        },
        "id": "5C5ry1aq1HvR",
        "outputId": "8c635678-96f7-4e21-f538-c84007f3387f"
      },
      "execution_count": 14,
      "outputs": [
        {
          "output_type": "stream",
          "name": "stdout",
          "text": [
            "<__main__.Rect object at 0x7fa25db1b280>   30   30   Oz Combined with another Oz   <bound method Rect.cal_area of <__main__.Rect object at 0x7fa25db1b280>>\n"
          ]
        }
      ]
    },
    {
      "cell_type": "code",
      "source": [
        "class Rect:\n",
        "  def __init__(self,height,width,name=\"example\"):\n",
        "    self.height = height\n",
        "    self.width = width\n",
        "    self.name = name\n",
        "  \n",
        "  def cal_area(self):\n",
        "    self.area = self.width * self.height\n",
        "    return self.width * self.height\n",
        "\n",
        "  def __add__(self,another_class):\n",
        "    return 8-2\n",
        "rect_1 = Rect(10,20,\"Oz\")\n",
        "rect_2 = Rect(20,10,\"another Oz\")\n",
        "sub=rect_1+rect_2\n",
        "print(sub)\n",
        "#but please dont do that :)"
      ],
      "metadata": {
        "colab": {
          "base_uri": "https://localhost:8080/"
        },
        "id": "7fNhOZ4EzbvR",
        "outputId": "7590061e-21c6-480f-e0a0-40b0870056d8"
      },
      "execution_count": 15,
      "outputs": [
        {
          "output_type": "stream",
          "name": "stdout",
          "text": [
            "6\n"
          ]
        }
      ]
    }
  ]
}