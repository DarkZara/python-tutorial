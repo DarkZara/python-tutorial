{
  "nbformat": 4,
  "nbformat_minor": 0,
  "metadata": {
    "colab": {
      "provenance": []
    },
    "kernelspec": {
      "name": "python3",
      "display_name": "Python 3"
    },
    "language_info": {
      "name": "python"
    },
    "gpuClass": "standard",
    "accelerator": "GPU"
  },
  "cells": [
    {
      "cell_type": "markdown",
      "source": [
        "#Try except raise - Python Basics : Error Handling"
      ],
      "metadata": {
        "id": "7dU5OlS92R_F"
      }
    },
    {
      "cell_type": "markdown",
      "source": [
        "##what is a error handling"
      ],
      "metadata": {
        "id": "Qdo6FBuL_Cle"
      }
    },
    {
      "cell_type": "code",
      "source": [
        "# try :\n",
        "#   code\n",
        "# except Exception as e :\n",
        "#   runs if code had error and the error is e\n",
        "\n",
        "# else :\n",
        "#   runs if code runs without error\n",
        "\n",
        "\n",
        "# finally :\n",
        "#   runs in any case , wether there is error or not\n",
        "\n",
        "\n",
        "\n",
        "# raise something #makes error"
      ],
      "metadata": {
        "id": "9qiYpqxJ_FOT"
      },
      "execution_count": null,
      "outputs": []
    },
    {
      "cell_type": "markdown",
      "source": [
        "##examples"
      ],
      "metadata": {
        "id": "cPUdP2js_aB6"
      }
    },
    {
      "cell_type": "code",
      "source": [
        "try :\n",
        "  a= 0\n",
        "  b =3\n",
        "  string = \" number like\" + a + b\n",
        "except Exception as e:\n",
        "  print(e)"
      ],
      "metadata": {
        "colab": {
          "base_uri": "https://localhost:8080/"
        },
        "id": "8QXLGoEfNuO_",
        "outputId": "7b205f0e-37a1-4dcf-fef1-837fea2e066b"
      },
      "execution_count": 1,
      "outputs": [
        {
          "output_type": "stream",
          "name": "stdout",
          "text": [
            "can only concatenate str (not \"int\") to str\n"
          ]
        }
      ]
    },
    {
      "cell_type": "markdown",
      "source": [
        "use"
      ],
      "metadata": {
        "id": "kw0z8YJgwRWI"
      }
    },
    {
      "cell_type": "code",
      "source": [
        "def add_users_number_with_mine(number):\n",
        "  try:\n",
        "    a = input(\"please give me a number\")\n",
        "    return number + a\n",
        "  except Exception as e:\n",
        "    print(e)\n",
        "    # add this to a error log so the developers will resolve the issue in future. and also apologize from user due to exception\n",
        "    return None\n",
        "\n",
        "add_users_number_with_mine(0)"
      ],
      "metadata": {
        "colab": {
          "base_uri": "https://localhost:8080/"
        },
        "id": "TCP3-RKuwNmb",
        "outputId": "a5e2760b-8fe7-409d-c569-e790eb7771f6"
      },
      "execution_count": 4,
      "outputs": [
        {
          "output_type": "stream",
          "name": "stdout",
          "text": [
            "please give me a number45\n",
            "unsupported operand type(s) for +: 'int' and 'str'\n"
          ]
        }
      ]
    },
    {
      "cell_type": "markdown",
      "source": [
        "with else"
      ],
      "metadata": {
        "id": "67hVb63K04dp"
      }
    },
    {
      "cell_type": "code",
      "source": [
        "\n",
        "try:\n",
        "  a = int(input(\"please give me a number\"))\n",
        "  # a = input(\"please give me a number\")\n",
        "  a= a+1\n",
        "except Exception as e:\n",
        "  print(e)\n",
        "\n",
        "else :\n",
        "  print(\"the number + 1 is: \",a)\n",
        "\n"
      ],
      "metadata": {
        "colab": {
          "base_uri": "https://localhost:8080/"
        },
        "id": "BQ1OCkwy0ss_",
        "outputId": "cd761cd1-1fe9-4280-9d79-625ba1f25cb5"
      },
      "execution_count": 6,
      "outputs": [
        {
          "output_type": "stream",
          "name": "stdout",
          "text": [
            "please give me a number45\n",
            "the number + 1 is:  46\n"
          ]
        }
      ]
    },
    {
      "cell_type": "markdown",
      "source": [
        "with finally"
      ],
      "metadata": {
        "id": "l6idNKGSA0GK"
      }
    },
    {
      "cell_type": "code",
      "source": [
        "a = None\n",
        "try:\n",
        "  a = int(input(\"please give me a number\"))\n",
        "  # a = input(\"please give me a number\")\n",
        "  a= a+1\n",
        "except Exception as e:\n",
        "  a = None\n",
        "  print(e)\n",
        "\n",
        "finally :\n",
        "  print(\"thank you\")\n",
        "  if a == None:\n",
        "    print(\"there was something wrong\")\n",
        "  else:\n",
        "    print(\"the number + 1 is: \",a)\n",
        "\n",
        "# print(\"thank you\")\n",
        "# if a == None:\n",
        "#   print(\"there was something wrong\")\n",
        "# else:\n",
        "#   print(\"the number + 1 is: \",a)\n"
      ],
      "metadata": {
        "colab": {
          "base_uri": "https://localhost:8080/"
        },
        "id": "p80_VHpSA2k5",
        "outputId": "9049d9cd-a90a-4801-e0dd-2eb6add5cb5f"
      },
      "execution_count": 10,
      "outputs": [
        {
          "output_type": "stream",
          "name": "stdout",
          "text": [
            "please give me a numbera\n",
            "invalid literal for int() with base 10: 'a'\n",
            "thank you\n",
            "there was something wrong\n"
          ]
        }
      ]
    },
    {
      "cell_type": "markdown",
      "source": [
        "cutom errors"
      ],
      "metadata": {
        "id": "ocVjMqATCm6z"
      }
    },
    {
      "cell_type": "code",
      "source": [
        "an_input=input(\"please give me a number : \")\n",
        "\n",
        "if an_input.lstrip('-+').isnumeric():\n",
        "  a_number=float(an_input)\n",
        "else:\n",
        "  raise Exception(\"you didnt enter number in function\")"
      ],
      "metadata": {
        "id": "oiEKDFSmBfUf",
        "colab": {
          "base_uri": "https://localhost:8080/",
          "height": 217
        },
        "outputId": "f4b37662-69cf-49d6-9ddd-88a97a34ee43"
      },
      "execution_count": 13,
      "outputs": [
        {
          "name": "stdout",
          "output_type": "stream",
          "text": [
            "please give me a number : a\n"
          ]
        },
        {
          "output_type": "error",
          "ename": "Exception",
          "evalue": "ignored",
          "traceback": [
            "\u001b[0;31m---------------------------------------------------------------------------\u001b[0m",
            "\u001b[0;31mException\u001b[0m                                 Traceback (most recent call last)",
            "\u001b[0;32m<ipython-input-13-2fe18daa26e9>\u001b[0m in \u001b[0;36m<cell line: 3>\u001b[0;34m()\u001b[0m\n\u001b[1;32m      4\u001b[0m   \u001b[0ma_number\u001b[0m\u001b[0;34m=\u001b[0m\u001b[0mfloat\u001b[0m\u001b[0;34m(\u001b[0m\u001b[0man_input\u001b[0m\u001b[0;34m)\u001b[0m\u001b[0;34m\u001b[0m\u001b[0;34m\u001b[0m\u001b[0m\n\u001b[1;32m      5\u001b[0m \u001b[0;32melse\u001b[0m\u001b[0;34m:\u001b[0m\u001b[0;34m\u001b[0m\u001b[0;34m\u001b[0m\u001b[0m\n\u001b[0;32m----> 6\u001b[0;31m   \u001b[0;32mraise\u001b[0m \u001b[0mException\u001b[0m\u001b[0;34m(\u001b[0m\u001b[0;34m\"you didnt enter number\"\u001b[0m\u001b[0;34m)\u001b[0m\u001b[0;34m\u001b[0m\u001b[0;34m\u001b[0m\u001b[0m\n\u001b[0m",
            "\u001b[0;31mException\u001b[0m: you didnt enter number"
          ]
        }
      ]
    }
  ]
}