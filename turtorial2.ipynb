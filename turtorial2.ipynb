{
  "nbformat": 4,
  "nbformat_minor": 0,
  "metadata": {
    "colab": {
      "provenance": [],
      "collapsed_sections": [
        "exipWADyflWv",
        "3hy3Jn7xf2w4",
        "Jb68mOk1gC4g",
        "wzT4DthVgKlS",
        "PYPZbNdKelRY",
        "YU1Vil6eg0sY",
        "ll3S6eUdjC9f"
      ]
    },
    "kernelspec": {
      "name": "python3",
      "display_name": "Python 3"
    },
    "language_info": {
      "name": "python"
    },
    "gpuClass": "standard",
    "accelerator": "GPU"
  },
  "cells": [
    {
      "cell_type": "markdown",
      "source": [
        "#CodeNevis - Python Basics : Variables (except String), opperands , and Comments by Zara"
      ],
      "metadata": {
        "id": "7r2qhufGeYOK"
      }
    },
    {
      "cell_type": "markdown",
      "source": [
        "##how to comment"
      ],
      "metadata": {
        "id": "ZXxYyRlHlEyX"
      }
    },
    {
      "cell_type": "code",
      "source": [
        "# im a comment !\n",
        "\"\"\"\n",
        "im a bigger comment\n",
        "much bigger !\n",
        "\"\"\""
      ],
      "metadata": {
        "id": "1Qup9k3mlGoA",
        "colab": {
          "base_uri": "https://localhost:8080/",
          "height": 35
        },
        "outputId": "2544b347-cd8e-4b32-c3e6-7255de7e2007"
      },
      "execution_count": 2,
      "outputs": [
        {
          "output_type": "execute_result",
          "data": {
            "text/plain": [
              "'\\nim a bigger comment\\nmuch bigger !\\n'"
            ],
            "application/vnd.google.colaboratory.intrinsic+json": {
              "type": "string"
            }
          },
          "metadata": {},
          "execution_count": 2
        }
      ]
    },
    {
      "cell_type": "markdown",
      "source": [
        "## how to print something"
      ],
      "metadata": {
        "id": "7ChX8jaRlhO4"
      }
    },
    {
      "cell_type": "code",
      "source": [
        "print(\"Hello Harry Potter, my name is Tom Riddle!\")\n",
        "print(\"im a \",3,\" year old angel!\")\n",
        "print(\"im a \"+str(3)+\" year old man!\")\n",
        "print(\"im a \"+str(3)+\"\\n year old man!\")\n",
        "print('\\n\\n\"quotion mar\"')"
      ],
      "metadata": {
        "colab": {
          "base_uri": "https://localhost:8080/"
        },
        "id": "EcEBG_9Oljqo",
        "outputId": "72cbecf4-6d14-4113-a3b6-9d683e6d4398"
      },
      "execution_count": 6,
      "outputs": [
        {
          "output_type": "stream",
          "name": "stdout",
          "text": [
            "Hello Harry Potter, my name is Tom Riddle!\n",
            "im a  3  year old angel!\n",
            "im a 3 year old man!\n",
            "im a 3\n",
            " year old man!\n",
            "\n",
            "\n",
            "\"quotion mar\"\n"
          ]
        }
      ]
    },
    {
      "cell_type": "markdown",
      "source": [
        "##numbers"
      ],
      "metadata": {
        "id": "exipWADyflWv"
      }
    },
    {
      "cell_type": "markdown",
      "source": [
        "###integer"
      ],
      "metadata": {
        "id": "3hy3Jn7xf2w4"
      }
    },
    {
      "cell_type": "code",
      "source": [
        "print(type(2))"
      ],
      "metadata": {
        "colab": {
          "base_uri": "https://localhost:8080/"
        },
        "id": "QinXMSL6f4n4",
        "outputId": "320b944e-9dad-44ec-a457-16447d0f9805"
      },
      "execution_count": 9,
      "outputs": [
        {
          "output_type": "stream",
          "name": "stdout",
          "text": [
            "<class 'int'>\n"
          ]
        }
      ]
    },
    {
      "cell_type": "markdown",
      "source": [
        "###float"
      ],
      "metadata": {
        "id": "Jb68mOk1gC4g"
      }
    },
    {
      "cell_type": "code",
      "source": [
        "print(type(-2.22345))"
      ],
      "metadata": {
        "colab": {
          "base_uri": "https://localhost:8080/"
        },
        "id": "Q-HxkUx4gClS",
        "outputId": "15b1b930-766d-4cef-c5d1-92fafde74cd2"
      },
      "execution_count": 8,
      "outputs": [
        {
          "output_type": "stream",
          "name": "stdout",
          "text": [
            "<class 'float'>\n"
          ]
        }
      ]
    },
    {
      "cell_type": "markdown",
      "source": [
        "###convert float to int and viceversa"
      ],
      "metadata": {
        "id": "wzT4DthVgKlS"
      }
    },
    {
      "cell_type": "code",
      "source": [
        "print(float(2))"
      ],
      "metadata": {
        "colab": {
          "base_uri": "https://localhost:8080/"
        },
        "id": "qyMfkAlsgPKo",
        "outputId": "9ecf22a9-c85b-42bf-9c50-fe1c8b1bb9a2"
      },
      "execution_count": 10,
      "outputs": [
        {
          "output_type": "stream",
          "name": "stdout",
          "text": [
            "2.0\n"
          ]
        }
      ]
    },
    {
      "cell_type": "code",
      "source": [
        "print(int(2.234))"
      ],
      "metadata": {
        "colab": {
          "base_uri": "https://localhost:8080/"
        },
        "id": "fxpmLrLQgZao",
        "outputId": "a6892a29-2382-4ac7-cfb0-af40c70be65a"
      },
      "execution_count": 11,
      "outputs": [
        {
          "output_type": "stream",
          "name": "stdout",
          "text": [
            "2\n"
          ]
        }
      ]
    },
    {
      "cell_type": "markdown",
      "source": [
        "###how to define a variable ?"
      ],
      "metadata": {
        "id": "PYPZbNdKelRY"
      }
    },
    {
      "cell_type": "markdown",
      "source": [
        "Name = Value"
      ],
      "metadata": {
        "id": "2fj97F_UetzB"
      }
    },
    {
      "cell_type": "code",
      "source": [
        "a = 3 #true but WRONG\n",
        "\n",
        "once_upon_a_day_Poirot_combed_his_mustache = 2 #true but WRONG\n",
        "\n",
        "AN_INTEGER = 2 #good but better to avoid\n",
        "\n",
        "an_integer = 2 #great!\n",
        "\n"
      ],
      "metadata": {
        "id": "sEJcZnVTekfw"
      },
      "execution_count": 13,
      "outputs": []
    },
    {
      "cell_type": "code",
      "source": [
        "print(2)\n",
        "print(an_integer)"
      ],
      "metadata": {
        "id": "xeBX1eDVfgco",
        "colab": {
          "base_uri": "https://localhost:8080/"
        },
        "outputId": "7f4aa8d2-7640-49c1-d4fb-2b71f91fb4f4"
      },
      "execution_count": 14,
      "outputs": [
        {
          "output_type": "stream",
          "name": "stdout",
          "text": [
            "2\n",
            "2\n"
          ]
        }
      ]
    },
    {
      "cell_type": "markdown",
      "source": [
        "##Math !"
      ],
      "metadata": {
        "id": "YU1Vil6eg0sY"
      }
    },
    {
      "cell_type": "code",
      "source": [
        "an_int = 2\n",
        "a_float = 3.4"
      ],
      "metadata": {
        "id": "3UeINA5_f0jw"
      },
      "execution_count": 15,
      "outputs": []
    },
    {
      "cell_type": "markdown",
      "source": [
        "add"
      ],
      "metadata": {
        "id": "nQI-8swEhLx_"
      }
    },
    {
      "cell_type": "code",
      "source": [
        "print(an_int + a_float)"
      ],
      "metadata": {
        "id": "9g0uk_gFhLZA",
        "colab": {
          "base_uri": "https://localhost:8080/"
        },
        "outputId": "9b6fe821-e7de-445e-c9a6-ce950ff2540c"
      },
      "execution_count": 16,
      "outputs": [
        {
          "output_type": "stream",
          "name": "stdout",
          "text": [
            "5.4\n"
          ]
        }
      ]
    },
    {
      "cell_type": "markdown",
      "source": [
        "sub"
      ],
      "metadata": {
        "id": "hrpH5AcyhSng"
      }
    },
    {
      "cell_type": "code",
      "source": [
        "print(an_int - a_float)"
      ],
      "metadata": {
        "id": "0rH0FuUBhTho",
        "colab": {
          "base_uri": "https://localhost:8080/"
        },
        "outputId": "54228409-9b87-4c75-bc6a-c8b6cb5abf71"
      },
      "execution_count": 17,
      "outputs": [
        {
          "output_type": "stream",
          "name": "stdout",
          "text": [
            "-1.4\n"
          ]
        }
      ]
    },
    {
      "cell_type": "markdown",
      "source": [
        "multiply"
      ],
      "metadata": {
        "id": "gqkMJ8AghWBQ"
      }
    },
    {
      "cell_type": "code",
      "source": [
        "print(an_int * a_float)"
      ],
      "metadata": {
        "id": "RZhct0UjhVb5",
        "colab": {
          "base_uri": "https://localhost:8080/"
        },
        "outputId": "bcbb0cdb-f311-43e1-a541-e93759a62415"
      },
      "execution_count": 19,
      "outputs": [
        {
          "output_type": "stream",
          "name": "stdout",
          "text": [
            "6.8\n"
          ]
        }
      ]
    },
    {
      "cell_type": "markdown",
      "source": [
        "power"
      ],
      "metadata": {
        "id": "j1olht9ThaaI"
      }
    },
    {
      "cell_type": "code",
      "source": [
        "print(a_float ** an_int)"
      ],
      "metadata": {
        "colab": {
          "base_uri": "https://localhost:8080/"
        },
        "id": "YbGapBm1hbbi",
        "outputId": "2f74d499-d858-4db4-b7b6-e5b1f7ac41c3"
      },
      "execution_count": 20,
      "outputs": [
        {
          "output_type": "stream",
          "name": "stdout",
          "text": [
            "11.559999999999999\n"
          ]
        }
      ]
    },
    {
      "cell_type": "markdown",
      "source": [
        "devide"
      ],
      "metadata": {
        "id": "szwoqVJChhDZ"
      }
    },
    {
      "cell_type": "code",
      "source": [
        "print(a_float / an_int)"
      ],
      "metadata": {
        "id": "VlFfgZOrhidx",
        "colab": {
          "base_uri": "https://localhost:8080/"
        },
        "outputId": "5512968e-f348-4bb8-90c0-d68f1acfc313"
      },
      "execution_count": 21,
      "outputs": [
        {
          "output_type": "stream",
          "name": "stdout",
          "text": [
            "1.7\n"
          ]
        }
      ]
    },
    {
      "cell_type": "markdown",
      "source": [
        "floor"
      ],
      "metadata": {
        "id": "D66KlssThllo"
      }
    },
    {
      "cell_type": "code",
      "source": [
        "another_int = 5\n",
        "print(another_int // an_int)"
      ],
      "metadata": {
        "colab": {
          "base_uri": "https://localhost:8080/"
        },
        "id": "sulKEcLhhlB5",
        "outputId": "add408fb-25bc-4d94-b050-ea30a2377a87"
      },
      "execution_count": 23,
      "outputs": [
        {
          "output_type": "stream",
          "name": "stdout",
          "text": [
            "2\n"
          ]
        }
      ]
    },
    {
      "cell_type": "markdown",
      "source": [
        "square root"
      ],
      "metadata": {
        "id": "oShgDNMojNuz"
      }
    },
    {
      "cell_type": "code",
      "source": [
        "import math\n",
        "print(math.sqrt(another_int))"
      ],
      "metadata": {
        "colab": {
          "base_uri": "https://localhost:8080/"
        },
        "id": "l6UVjIAIh-gJ",
        "outputId": "ede8ccd5-e236-417c-bba0-a8411f27293e"
      },
      "execution_count": 24,
      "outputs": [
        {
          "output_type": "stream",
          "name": "stdout",
          "text": [
            "2.23606797749979\n"
          ]
        }
      ]
    },
    {
      "cell_type": "markdown",
      "source": [
        "Modulus"
      ],
      "metadata": {
        "id": "BlXqTsQNjPCQ"
      }
    },
    {
      "cell_type": "code",
      "source": [
        "print(another_int % an_int)"
      ],
      "metadata": {
        "colab": {
          "base_uri": "https://localhost:8080/"
        },
        "id": "nNQThZCpjPyY",
        "outputId": "b83302ff-cef1-4326-90b9-1f169d2ecdea"
      },
      "execution_count": 25,
      "outputs": [
        {
          "output_type": "stream",
          "name": "stdout",
          "text": [
            "1\n"
          ]
        }
      ]
    },
    {
      "cell_type": "markdown",
      "source": [
        "plus 1"
      ],
      "metadata": {
        "id": "Ml1RWX6hkRSO"
      }
    },
    {
      "cell_type": "code",
      "source": [
        "print(another_int)\n",
        "another_int+=1 # also *= , /= , -= etc   another = another + 1\n",
        "print(another_int)"
      ],
      "metadata": {
        "colab": {
          "base_uri": "https://localhost:8080/"
        },
        "id": "yfogds-6kS4f",
        "outputId": "ec8c798a-dac5-46b5-ee25-3fabc04597bb"
      },
      "execution_count": 26,
      "outputs": [
        {
          "output_type": "stream",
          "name": "stdout",
          "text": [
            "5\n",
            "6\n"
          ]
        }
      ]
    },
    {
      "cell_type": "markdown",
      "source": [
        "##boolean"
      ],
      "metadata": {
        "id": "r8-pXZI5i2G9"
      }
    },
    {
      "cell_type": "code",
      "source": [
        "print(type(True))\n",
        "print(type(False))"
      ],
      "metadata": {
        "id": "Zv9fxZMci4-2"
      },
      "execution_count": null,
      "outputs": []
    },
    {
      "cell_type": "code",
      "source": [
        "print(True - True)\n",
        "print(False - True)\n",
        "print(True - False)\n",
        "print(False - False)\n",
        "print(True + True)\n",
        "print(False + True)\n",
        "print(True + False)\n",
        "print(False + False)\n",
        "print(True * True)\n",
        "print(False * True)\n",
        "print(True * False)\n",
        "print(False * False)\n",
        "print(True / True)\n",
        "print(False / True)\n",
        "#print(True / False) #throws error\n",
        "#print(False / False) #throws error"
      ],
      "metadata": {
        "colab": {
          "base_uri": "https://localhost:8080/"
        },
        "id": "gUoX0SvI4hkE",
        "outputId": "6185b8c9-90a4-4be1-df20-ccf9ff89a5af"
      },
      "execution_count": 29,
      "outputs": [
        {
          "output_type": "stream",
          "name": "stdout",
          "text": [
            "0\n",
            "-1\n",
            "1\n",
            "0\n",
            "2\n",
            "1\n",
            "1\n",
            "0\n",
            "1\n",
            "0\n",
            "0\n",
            "0\n",
            "1.0\n",
            "0.0\n"
          ]
        }
      ]
    },
    {
      "cell_type": "code",
      "source": [
        "print(True and True)\n",
        "print(False and True)\n",
        "print(True and False)\n",
        "print(False and False)\n",
        "print(True or True)\n",
        "print(False or True)\n",
        "print(True or False)\n",
        "print(False or False)\n",
        "print(not True)\n",
        "print(True | True)\n",
        "print(False & True)"
      ],
      "metadata": {
        "colab": {
          "base_uri": "https://localhost:8080/"
        },
        "id": "2SB6lSG14929",
        "outputId": "bfb352b8-8636-4ac7-fbb8-d34f27951aca"
      },
      "execution_count": 33,
      "outputs": [
        {
          "output_type": "stream",
          "name": "stdout",
          "text": [
            "True\n",
            "False\n",
            "False\n",
            "False\n",
            "True\n",
            "True\n",
            "True\n",
            "False\n",
            "False\n",
            "True\n",
            "False\n"
          ]
        }
      ]
    },
    {
      "cell_type": "markdown",
      "source": [
        "### operators"
      ],
      "metadata": {
        "id": "ll3S6eUdjC9f"
      }
    },
    {
      "cell_type": "code",
      "source": [
        "print(1<3)\n",
        "print(1>3)\n",
        "print(1<=3)\n",
        "print(1>=3)\n"
      ],
      "metadata": {
        "colab": {
          "base_uri": "https://localhost:8080/"
        },
        "id": "y6DOsYf-i_l3",
        "outputId": "20966eae-ca96-4238-bb60-0ea0e5b363b4"
      },
      "execution_count": 34,
      "outputs": [
        {
          "output_type": "stream",
          "name": "stdout",
          "text": [
            "True\n",
            "False\n",
            "True\n",
            "False\n"
          ]
        }
      ]
    },
    {
      "cell_type": "code",
      "source": [
        "print(1==3)\n",
        "print(1==1)\n",
        "print(1!=3)\n",
        "print(1!=1)\n"
      ],
      "metadata": {
        "colab": {
          "base_uri": "https://localhost:8080/"
        },
        "id": "3BTiKYamjqKp",
        "outputId": "a432f519-3e50-459d-81ea-19da313df5fd"
      },
      "execution_count": 35,
      "outputs": [
        {
          "output_type": "stream",
          "name": "stdout",
          "text": [
            "False\n",
            "True\n",
            "True\n",
            "False\n"
          ]
        }
      ]
    },
    {
      "cell_type": "code",
      "source": [
        "print((1<3)and(1>3))\n",
        "print((1<3)or(1>3))"
      ],
      "metadata": {
        "colab": {
          "base_uri": "https://localhost:8080/"
        },
        "id": "Aola8HDgBAyv",
        "outputId": "c018688f-a642-42ab-8fbf-edc9faf860b6"
      },
      "execution_count": 37,
      "outputs": [
        {
          "output_type": "stream",
          "name": "stdout",
          "text": [
            "False\n",
            "True\n"
          ]
        }
      ]
    },
    {
      "cell_type": "markdown",
      "source": [
        "###None"
      ],
      "metadata": {
        "id": "cWE0Ojf5kArq"
      }
    },
    {
      "cell_type": "code",
      "source": [
        "print(type(None))"
      ],
      "metadata": {
        "id": "QugnjBRUj6eI"
      },
      "execution_count": null,
      "outputs": []
    },
    {
      "cell_type": "code",
      "source": [
        "print(0==None)"
      ],
      "metadata": {
        "id": "mt2HGubikJh6"
      },
      "execution_count": null,
      "outputs": []
    },
    {
      "cell_type": "markdown",
      "source": [
        "##string abstract"
      ],
      "metadata": {
        "id": "bMOB4yR3lcxv"
      }
    },
    {
      "cell_type": "code",
      "source": [
        "a_char='a'\n",
        "another_char=\"b\"\n",
        "print(type(another_char))\n",
        "print(a_char==a_char)\n",
        "print(a_char==another_char)"
      ],
      "metadata": {
        "colab": {
          "base_uri": "https://localhost:8080/"
        },
        "id": "HCNfQr3Wlfkf",
        "outputId": "b03b2099-9000-4329-9874-c248306e8e0d"
      },
      "execution_count": 38,
      "outputs": [
        {
          "output_type": "stream",
          "name": "stdout",
          "text": [
            "<class 'str'>\n",
            "True\n",
            "False\n"
          ]
        }
      ]
    },
    {
      "cell_type": "code",
      "source": [
        "print(\"abc\"+\"a\")"
      ],
      "metadata": {
        "colab": {
          "base_uri": "https://localhost:8080/"
        },
        "id": "2CyKh2AB4UyY",
        "outputId": "68930520-13bb-4e0e-91db-71fc6e30f9cf"
      },
      "execution_count": 39,
      "outputs": [
        {
          "output_type": "stream",
          "name": "stdout",
          "text": [
            "abca\n"
          ]
        }
      ]
    },
    {
      "cell_type": "markdown",
      "source": [
        "##how to get value from user?"
      ],
      "metadata": {
        "id": "4x8uX7by3U5F"
      }
    },
    {
      "cell_type": "code",
      "source": [
        "users_input = input(\"please give me something !\")\n",
        "print(type(users_input))"
      ],
      "metadata": {
        "colab": {
          "base_uri": "https://localhost:8080/"
        },
        "id": "b3T59v6B3YHk",
        "outputId": "66d9f0ac-58e1-425f-8741-3f4b97e07f8e"
      },
      "execution_count": 41,
      "outputs": [
        {
          "output_type": "stream",
          "name": "stdout",
          "text": [
            "please give me something !asdf\n",
            "<class 'str'>\n"
          ]
        }
      ]
    },
    {
      "cell_type": "markdown",
      "source": [
        "get numbers"
      ],
      "metadata": {
        "id": "SO796zzR3j7B"
      }
    },
    {
      "cell_type": "code",
      "source": [
        "users_number = input(\"please give me a number !\")\n",
        "print(users_number+str(2)) # throws error !\n"
      ],
      "metadata": {
        "colab": {
          "base_uri": "https://localhost:8080/"
        },
        "id": "la6S6K0m3lnB",
        "outputId": "8856d9a9-8ea9-4e71-8a72-ee509fbcf7d9"
      },
      "execution_count": 43,
      "outputs": [
        {
          "output_type": "stream",
          "name": "stdout",
          "text": [
            "please give me a number !23\n",
            "232\n"
          ]
        }
      ]
    },
    {
      "cell_type": "code",
      "source": [
        "users_number = input(\"please give me a number !\")\n",
        "users_number = int(users_number)\n",
        "print(users_number+2) # works but wrong !"
      ],
      "metadata": {
        "colab": {
          "base_uri": "https://localhost:8080/"
        },
        "id": "6H4fSAHE3_4N",
        "outputId": "0d668ae3-e721-43ea-8699-868cd93e1100"
      },
      "execution_count": 45,
      "outputs": [
        {
          "output_type": "stream",
          "name": "stdout",
          "text": [
            "please give me a number !2\n",
            "4\n"
          ]
        }
      ]
    },
    {
      "cell_type": "code",
      "source": [
        "users_number = input(\"please give me a number !\")\n",
        "users_number = float(users_number)\n",
        "print(users_number+2) #great !"
      ],
      "metadata": {
        "colab": {
          "base_uri": "https://localhost:8080/"
        },
        "id": "CkQskJ6O4LNE",
        "outputId": "68501306-6de8-4cdf-dde2-495ddbb2fde3"
      },
      "execution_count": 46,
      "outputs": [
        {
          "output_type": "stream",
          "name": "stdout",
          "text": [
            "please give me a number !2.356\n",
            "4.356\n"
          ]
        }
      ]
    }
  ]
}