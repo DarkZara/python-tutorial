{
  "nbformat": 4,
  "nbformat_minor": 0,
  "metadata": {
    "colab": {
      "provenance": []
    },
    "kernelspec": {
      "name": "python3",
      "display_name": "Python 3"
    },
    "language_info": {
      "name": "python"
    },
    "gpuClass": "standard",
    "accelerator": "GPU"
  },
  "cells": [
    {
      "cell_type": "markdown",
      "source": [
        "#CodeNevis - Python Basics : Inheritance , مرگ یکبار شیون هم یکبار\n",
        "# Classes part2"
      ],
      "metadata": {
        "id": "7dU5OlS92R_F"
      }
    },
    {
      "cell_type": "markdown",
      "source": [
        "##what is a inheritance"
      ],
      "metadata": {
        "id": "Qdo6FBuL_Cle"
      }
    },
    {
      "cell_type": "code",
      "source": [
        "\n",
        "class Animal:\n",
        "  number_of_arms=0\n",
        "  number_of_horns=2\n",
        "  race=\"\"\n",
        "  name=\"\"\n",
        "  num_children=0\n",
        "  def give_birth(self):\n",
        "    self.num_children = self.num_children+1\n",
        "\n",
        "class Dog(Animal):\n",
        "  def best_friend():\n",
        "    return \"John Wick\"\n",
        "\n",
        "#Dog is an animal!\n",
        "\n",
        "animal_is_super_object = Animal\n",
        "animal_is_super_object.number_of_arms=4\n",
        "animal_is_super_object.race=\"mamals\"\n",
        "animal_is_super_object.name=\"human\"\n",
        "print(\"1. \", animal_is_super_object.number_of_arms,animal_is_super_object.race,animal_is_super_object.name)\n",
        "# best friend ??\n",
        "\n",
        "Cerberus = Dog\n",
        "Cerberus.number_of_arms=4\n",
        "Cerberus.race=\"dogs\"\n",
        "Cerberus.name=\"cerberus\"\n",
        "print(\"2. \", Cerberus.number_of_arms,Cerberus.race,Cerberus.name,Cerberus.best_friend())"
      ],
      "metadata": {
        "id": "9qiYpqxJ_FOT",
        "colab": {
          "base_uri": "https://localhost:8080/"
        },
        "outputId": "b5cbddb1-5963-434f-ca84-0319f39abaf4"
      },
      "execution_count": 2,
      "outputs": [
        {
          "output_type": "stream",
          "name": "stdout",
          "text": [
            "1.  4 mamals human\n",
            "2.  4 dogs cerberus John Wick\n"
          ]
        }
      ]
    },
    {
      "cell_type": "code",
      "source": [
        "# EVERY THING ABOUT CLASSES PART1 WORKS HERE TOO!"
      ],
      "metadata": {
        "id": "PRlj4co00iuH"
      },
      "execution_count": null,
      "outputs": []
    },
    {
      "cell_type": "markdown",
      "source": [
        "##attributes and initialization"
      ],
      "metadata": {
        "id": "cPUdP2js_aB6"
      }
    },
    {
      "cell_type": "code",
      "source": [
        "class Employee:\n",
        "  def __init__(self, name = \"\" , height=0 , salary=0):\n",
        "        self.name = name\n",
        "        self.height = height\n",
        "        self.salary = salary\n",
        "\n",
        "class Senior_Employee(Employee):\n",
        "  def __init__(self, name = \"\" , height=0 , salary=0,exp=0):\n",
        "    Employee.__init__(self, name ,height , salary)\n",
        "    self.exp = exp\n",
        "\n",
        "employee_1=Employee()\n",
        "print(\"1.\",employee_1,\"     \",employee_1.name,employee_1.height,employee_1.salary)\n",
        "employee_2=Employee(\"darth vader\",1.89,5000)\n",
        "print(\"2.\",employee_2,\"     \",employee_2.name,employee_2.height,employee_2.salary)\n",
        "employee_3 = Senior_Employee(\"Emperor palpatine\",1.60,150000,8)\n",
        "print(\"3.\",employee_3,\"     \",employee_3.name,employee_3.height,employee_3.salary,employee_3.exp)"
      ],
      "metadata": {
        "colab": {
          "base_uri": "https://localhost:8080/"
        },
        "id": "8QXLGoEfNuO_",
        "outputId": "6593047d-93e0-48c5-f9bd-f234714af9de"
      },
      "execution_count": 3,
      "outputs": [
        {
          "output_type": "stream",
          "name": "stdout",
          "text": [
            "1. <__main__.Employee object at 0x7fb3f6f01ff0>        0 0\n",
            "2. <__main__.Employee object at 0x7fb413837bb0>       darth vader 1.89 5000\n",
            "3. <__main__.Senior_Employee object at 0x7fb413837760>       Emperor palpatine 1.6 150000 8\n"
          ]
        }
      ]
    },
    {
      "cell_type": "markdown",
      "source": [
        "Super"
      ],
      "metadata": {
        "id": "67hVb63K04dp"
      }
    },
    {
      "cell_type": "code",
      "source": [
        "class Employee:\n",
        "  def __init__(self, name = \"\" , height=0 , salary=0):\n",
        "        self.name = name\n",
        "        self.height = height\n",
        "        self.salary = salary\n",
        "\n",
        "class Senior_Employee(Employee):\n",
        "  def __init__(self, name = \"\" , height=0 , salary=0,exp=0):\n",
        "    super().__init__( name ,height , salary)\n",
        "    self.exp = exp\n",
        "\n",
        "employee_1=Employee()\n",
        "print(\"1.\",employee_1,\"     \",employee_1.name,employee_1.height,employee_1.salary)\n",
        "employee_2=Employee(\"darth vader\",1.89,5000)\n",
        "print(\"2.\",employee_2,\"     \",employee_2.name,employee_2.height,employee_2.salary)\n",
        "employee_3 = Senior_Employee(\"Emperor palpatine\",1.60,150000,8)\n",
        "print(\"3.\",employee_3,\"     \",employee_3.name,employee_3.height,employee_3.salary,employee_3.exp)"
      ],
      "metadata": {
        "colab": {
          "base_uri": "https://localhost:8080/"
        },
        "id": "BQ1OCkwy0ss_",
        "outputId": "eb0f2fdc-85f7-444d-8eb5-00aea6472f2f"
      },
      "execution_count": 4,
      "outputs": [
        {
          "output_type": "stream",
          "name": "stdout",
          "text": [
            "1. <__main__.Employee object at 0x7fb3f6f00b80>        0 0\n",
            "2. <__main__.Employee object at 0x7fb3f6f03df0>       darth vader 1.89 5000\n",
            "3. <__main__.Senior_Employee object at 0x7fb3f6f01ed0>       Emperor palpatine 1.6 150000 8\n"
          ]
        }
      ]
    },
    {
      "cell_type": "markdown",
      "source": [
        "##Functions overloading"
      ],
      "metadata": {
        "id": "CorHYay2A37f"
      }
    },
    {
      "cell_type": "code",
      "source": [
        "\"\"\"\n",
        "class name:\n",
        "  define functions\n",
        "define object as object = name_of_class()\n",
        "object.function()\n",
        "\n",
        "\n",
        "MIND THE GAP! AND MIND :\n",
        "\"\"\"\n",
        "class Animal:\n",
        "  def __init__(self,number_of_arms=0,number_of_horns=2,race=\"\",name=\"\",num_children=0):\n",
        "    self.number_of_arms = number_of_arms\n",
        "    self.number_of_horns = number_of_horns\n",
        "    self.race = race\n",
        "    self.name = name\n",
        "    self.num_children = num_children\n",
        "  def give_birth(self):\n",
        "    self.num_children = self.num_children+1\n",
        "\n",
        "\n",
        "class Dog(Animal):\n",
        "  def __init__(self,number_of_arms=0,number_of_horns=2,race=\"\",name=\"\",num_children=0):\n",
        "    super().__init__(number_of_arms,number_of_horns,race,name,num_children)\n",
        "  def best_friend():\n",
        "    return \"John Wick\"\n",
        "  def give_birth(self):\n",
        "    self.num_children = self.num_children+30\n",
        "\n",
        "class Dragon(Animal):\n",
        "  def __init__(self,number_of_arms=0,number_of_horns=2,race=\"\",name=\"\",num_children=0):\n",
        "    super().__init__(number_of_arms,number_of_horns,race,name,num_children)\n",
        "\n",
        "  def give_birth(self):\n",
        "    print(\"once upon time a dragon met Shreks khar!\")\n",
        "    super().give_birth()\n",
        "    # Animal.give_birth()\n",
        "\n",
        "\n",
        "alien = Animal(4,4,\"Unknown\",\"Zaxivas\",0)\n",
        "print(\"1. \", alien.number_of_arms,alien.race,alien.name)\n",
        "fenrir = Dog(4,0,\"Dogs\",\"Fenrir/Fenris\",0)\n",
        "print(\"2. \", fenrir.number_of_arms,fenrir.race,fenrir.name,fenrir.num_children)\n",
        "fenrir.give_birth()\n",
        "print(\"3. \",fenrir.num_children)\n",
        "smaug = Dragon(4,2,\"reptile\",\"Smaug\",0)\n",
        "print(\"4. \", smaug.number_of_arms,smaug.race,smaug.name,smaug.num_children)\n",
        "smaug.give_birth()\n",
        "print(\"5. \",smaug.num_children)"
      ],
      "metadata": {
        "id": "wbZNW8IlBH1t",
        "colab": {
          "base_uri": "https://localhost:8080/"
        },
        "outputId": "9e7bd872-4b51-4617-bd4e-ecf9e47b2726"
      },
      "execution_count": 5,
      "outputs": [
        {
          "output_type": "stream",
          "name": "stdout",
          "text": [
            "1.  4 Unknown Zaxivas\n",
            "2.  4 Dogs Fenrir/Fenris 0\n",
            "3.  30\n",
            "4.  4 reptile Smaug 0\n",
            "once upon time a dragon met Shreks khar!\n",
            "5.  1\n"
          ]
        }
      ]
    },
    {
      "cell_type": "markdown",
      "source": [
        "##multi inhertances"
      ],
      "metadata": {
        "id": "vPfh9zyCTxfm"
      }
    },
    {
      "cell_type": "code",
      "source": [
        "class Employee:\n",
        "  def __init__(self, name = \"\" , height=0 , salary=0):\n",
        "        self.name = name\n",
        "        self.height = height\n",
        "        self.salary = salary\n",
        "\n",
        "  def give_name(self):\n",
        "    return  \"employee's name is \"+self.name\n",
        "\n",
        "class Person:\n",
        "  def __init__(self ,name=\"\" ,Hobbies = \"\" ):\n",
        "        self.Hobbies = Hobbies\n",
        "        self.name = name\n",
        "  def give_name(self):\n",
        "    return  \"person's name is\"+self.name\n",
        "\n",
        "\n",
        "class Senior_Employee(Employee,Person):\n",
        "  def __init__(self, name = \"\" , height=0 , salary=0,exp=0,):\n",
        "    super().__init__( name ,height , salary)\n",
        "    self.exp = exp\n",
        "\n",
        "  def give_name(self):\n",
        "    return super().give_name()\n",
        "\n",
        "\n",
        "\n",
        "employee_1 = Senior_Employee(\"Emperor palpatine\",1.60,150000,8)\n",
        "print(\"1.\",employee_1,\"     \",employee_1.name,employee_1.height,employee_1.salary,employee_1.exp)\n",
        "print(\"2.\",employee_1,\"     \",employee_1.give_name())"
      ],
      "metadata": {
        "colab": {
          "base_uri": "https://localhost:8080/"
        },
        "id": "d54NxffKWGhr",
        "outputId": "1867dc4e-0e9b-45ef-c7d9-b7d4e66a6fe7"
      },
      "execution_count": 20,
      "outputs": [
        {
          "output_type": "stream",
          "name": "stdout",
          "text": [
            "1. <__main__.Senior_Employee object at 0x7fb3f6f30340>       Emperor palpatine 1.6 150000 8\n",
            "2. <__main__.Senior_Employee object at 0x7fb3f6f30340>       employee's name isEmperor palpatine\n"
          ]
        }
      ]
    },
    {
      "cell_type": "code",
      "source": [
        "class Employee:\n",
        "  def __init__(self, name = \"\" , height=0 , salary=0):\n",
        "        self.name = name\n",
        "        self.height = height\n",
        "        self.salary = salary\n",
        "\n",
        "  def give_name(self):\n",
        "    return  \"employee's name is\"+self.name\n",
        "\n",
        "class Person:\n",
        "  def __init__(self ,name=\"\" ,Hobbies = \"\" ):\n",
        "\n",
        "        self.Hobbies = Hobbies\n",
        "        self.name = name\n",
        "  def give_name(self):\n",
        "    return  \"person's name is \"+self.name\n",
        "\n",
        "\n",
        "class Senior_Employee(Employee,Person):\n",
        "  def __init__(self, name = \"\" , height=0 , salary=0,exp=0,hobbies=\"\"):\n",
        "    Employee.__init__(self, name ,height , salary)\n",
        "    Person.__init__(self,name,hobbies)\n",
        "    self.exp = exp\n",
        "\n",
        "  def give_name(self):\n",
        "    return Person.give_name(self)\n",
        "\n",
        "\n",
        "\n",
        "employee_1 = Senior_Employee(\"Emperor palpatine\",1.60,150000,8,\"watching netflix\")\n",
        "print(\"1.\",employee_1,\"     \",employee_1.name,employee_1.height,employee_1.salary,employee_1.exp,employee_1.Hobbies)\n",
        "print(\"2.\",employee_1,\"     \",employee_1.give_name())"
      ],
      "metadata": {
        "colab": {
          "base_uri": "https://localhost:8080/"
        },
        "id": "GDbk_Xt9RuGr",
        "outputId": "0d634ce4-5b1e-4e9d-eb6a-db6014e40fe1"
      },
      "execution_count": 19,
      "outputs": [
        {
          "output_type": "stream",
          "name": "stdout",
          "text": [
            "1. <__main__.Senior_Employee object at 0x7fb3f6f33880>       Emperor palpatine 1.6 150000 8 watching netflix\n",
            "2. <__main__.Senior_Employee object at 0x7fb3f6f33880>       person's name is Emperor palpatine\n"
          ]
        }
      ]
    },
    {
      "cell_type": "code",
      "source": [
        "class Number1:\n",
        "  def __init__(self):\n",
        "    print(1)\n",
        "\n",
        "class Number2(Number1):\n",
        "  def __init__(self):\n",
        "    super().__init__()\n",
        "    print(2)\n",
        "    # super().__init__()\n",
        "\n",
        "class Number3(Number2):\n",
        "  def __init__(self):\n",
        "    super().__init__()\n",
        "    print(3)\n",
        "\n",
        "nummber3 = Number3()"
      ],
      "metadata": {
        "colab": {
          "base_uri": "https://localhost:8080/"
        },
        "id": "PYMOhw7yTKlj",
        "outputId": "88c32f28-920a-4b2b-994a-2ebf9cb7279d"
      },
      "execution_count": 27,
      "outputs": [
        {
          "output_type": "stream",
          "name": "stdout",
          "text": [
            "2\n",
            "1\n",
            "3\n"
          ]
        }
      ]
    }
  ]
}