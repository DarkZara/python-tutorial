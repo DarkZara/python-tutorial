{
  "nbformat": 4,
  "nbformat_minor": 0,
  "metadata": {
    "colab": {
      "provenance": []
    },
    "kernelspec": {
      "name": "python3",
      "display_name": "Python 3"
    },
    "language_info": {
      "name": "python"
    },
    "gpuClass": "standard",
    "accelerator": "GPU"
  },
  "cells": [
    {
      "cell_type": "markdown",
      "source": [
        "#CodeNevis - Python Basics : functions ,lambda and modules by Zara"
      ],
      "metadata": {
        "id": "7dU5OlS92R_F"
      }
    },
    {
      "cell_type": "markdown",
      "source": [
        "##what is a module"
      ],
      "metadata": {
        "id": "Qdo6FBuL_Cle"
      }
    },
    {
      "cell_type": "code",
      "source": [
        "# a structured organised pre-developed functions/variables in .py files and folders accessed by foldername.nextfolder.next.filename.function_or_variable\n",
        "import math\n",
        "print(math.pi)\n",
        "import math as m\n",
        "print(m.pi)\n",
        "from math import pi \n",
        "print(pi)\n",
        "from math import * #avoid\n",
        "print(pi)\n",
        "# dir()\n",
        "#numpy , matplot , pandas , streamlit , opencv ,transformers , keras , pytorch , tensorflow , ..... billions!"
      ],
      "metadata": {
        "id": "9qiYpqxJ_FOT",
        "colab": {
          "base_uri": "https://localhost:8080/"
        },
        "outputId": "df44cbbf-0cc4-4898-b867-e471ed3050cf"
      },
      "execution_count": null,
      "outputs": [
        {
          "output_type": "stream",
          "name": "stdout",
          "text": [
            "3.141592653589793\n",
            "3.141592653589793\n",
            "3.141592653589793\n",
            "3.141592653589793\n"
          ]
        }
      ]
    },
    {
      "cell_type": "markdown",
      "source": [
        "##functions"
      ],
      "metadata": {
        "id": "cPUdP2js_aB6"
      }
    },
    {
      "cell_type": "markdown",
      "source": [
        "###return and void"
      ],
      "metadata": {
        "id": "ltNDA2DP_dpq"
      }
    },
    {
      "cell_type": "code",
      "source": [
        "\"\"\"\n",
        "def name(optinal values sseparated by ','):\n",
        "  code that runs if the function is called\n",
        "  optional return output\n",
        "code that runs anyway\n",
        "\n",
        "\n",
        "MIND THE GAP! AND MIND :\n",
        "\"\"\"\n",
        "def A_sample_function_without_output():\n",
        "  print(\"im a void in cpp!\")\n",
        "  #retunr None\n",
        "\n",
        "def A_sample_function_with_an_output():\n",
        "  print(\"i am called and i always return 3 as output\")\n",
        "  return 3\n",
        "\n",
        "# A_sample_function_with_an_output()\n",
        "# print(A_sample_function_with_an_output())\n",
        "# A_sample_function_without_output()\n",
        "# print(A_sample_function_without_output())\n",
        "\n",
        "a_dummy_var=A_sample_function_with_an_output()\n",
        "print(a_dummy_var)\n",
        "a_dummy_var=A_sample_function_without_output()\n",
        "print(a_dummy_var)"
      ],
      "metadata": {
        "id": "UZDNB0UNAWb2"
      },
      "execution_count": null,
      "outputs": []
    },
    {
      "cell_type": "markdown",
      "source": [
        "###parameters and defaults"
      ],
      "metadata": {
        "id": "CorHYay2A37f"
      }
    },
    {
      "cell_type": "code",
      "source": [
        "\"\"\"\n",
        "def name(optinal values sseparated by ',' the default valued parameters comes at the end without any exception):\n",
        "  code that runs if the function is called\n",
        "  optional return output\n",
        "code that runs anyway\n",
        "\n",
        "\n",
        "MIND THE GAP! AND MIND :\n",
        "\"\"\"\n",
        "\n",
        "def A_sample_function_without_output(a_parameter_without_value,a_parameter_with_value=4):\n",
        "  print(\"im a void in cpp! my parameters are , \",a_parameter_without_value,a_parameter_with_value)\n",
        "  #retunr None\n",
        "\n",
        "def A_sample_function_with_an_output(a_parameter_without_value,a_parameter_with_value=4):\n",
        "  a_parameter_without_value+=1\n",
        "  a_parameter_without_value=a_parameter_without_value+a_parameter_with_value\n",
        "  return a_parameter_without_value\n",
        "\n",
        "# A_sample_function_without_output(1)\n",
        "\n",
        "# A_sample_function_without_output(1,2)\n",
        "\n",
        "a=A_sample_function_with_an_output(1)\n",
        "print(a)\n",
        "a=A_sample_function_with_an_output(1,2)\n",
        "print(a)\n"
      ],
      "metadata": {
        "id": "wbZNW8IlBH1t",
        "colab": {
          "base_uri": "https://localhost:8080/"
        },
        "outputId": "e9ef2331-46a0-48bf-d9db-1997976b7d23"
      },
      "execution_count": null,
      "outputs": [
        {
          "output_type": "stream",
          "name": "stdout",
          "text": [
            "6\n",
            "4\n"
          ]
        }
      ]
    },
    {
      "cell_type": "code",
      "source": [
        "def A_sample_function_without_output(a_parameter_with_value=4,a_parameter_without_value):\n",
        "  print(\"im a void in cpp! my parameters are , \",a_parameter_without_value,a_parameter_with_value)\n",
        "  #retunr None\n",
        "\n",
        "def A_sample_function_without_output(a_parameter_without_value,a_parameter_with_value=4,a_parameter_without_value,a_parameter_with_value=4,):\n",
        "  print(\"im a void in cpp! my parameters are , \",a_parameter_without_value,a_parameter_with_value)\n",
        "  #retunr None"
      ],
      "metadata": {
        "id": "I3wDdFfN4Fi8"
      },
      "execution_count": null,
      "outputs": []
    },
    {
      "cell_type": "markdown",
      "source": [
        "### nested functions"
      ],
      "metadata": {
        "id": "LY2yVctsCLPG"
      }
    },
    {
      "cell_type": "code",
      "source": [
        "def func_1():\n",
        "  print(\"function 1\")\n",
        "\n",
        "def func_2():\n",
        "  print(\"function 2\")\n",
        "  func_1()\n",
        "  # print(\"function 2\")\n",
        "\n",
        "\n",
        "func_2()"
      ],
      "metadata": {
        "id": "klBE45pUCPEe",
        "colab": {
          "base_uri": "https://localhost:8080/"
        },
        "outputId": "039706cf-d679-4f17-d184-5c83c9b72405"
      },
      "execution_count": null,
      "outputs": [
        {
          "output_type": "stream",
          "name": "stdout",
          "text": [
            "function 2\n",
            "function 1\n"
          ]
        }
      ]
    },
    {
      "cell_type": "markdown",
      "source": [
        "Clean Functions"
      ],
      "metadata": {
        "id": "wM5T5Z3D1Edg"
      }
    },
    {
      "cell_type": "code",
      "source": [
        "\n",
        "\n",
        "def A_clear_name_that_defines_functions_operation(clear_value_names):\n",
        "    help=\" a clear comment that explains what are the parameters of this fuction, and what are the possible outputs and errors\"\\\n",
        "    \"and what this function does \"\n",
        "    clear_error_handled_output=clear_value_names\n",
        "    return clear_error_handled_output\n",
        "\n"
      ],
      "metadata": {
        "colab": {
          "base_uri": "https://localhost:8080/",
          "height": 35
        },
        "id": "5C5ry1aq1HvR",
        "outputId": "727687b3-812c-4dd2-cef4-c481c2b29c8b"
      },
      "execution_count": null,
      "outputs": [
        {
          "output_type": "execute_result",
          "data": {
            "text/plain": [
              "' a clear comment that explains what are the parameters of this fuction, and what are the possible outputs and errorsand what this function does '"
            ],
            "application/vnd.google.colaboratory.intrinsic+json": {
              "type": "string"
            }
          },
          "metadata": {},
          "execution_count": 2
        }
      ]
    },
    {
      "cell_type": "code",
      "source": [
        "def a_func():\n",
        "  return 1,2\n",
        "\n",
        "a,b=a_func()\n",
        "print(a,b)"
      ],
      "metadata": {
        "colab": {
          "base_uri": "https://localhost:8080/"
        },
        "id": "7fNhOZ4EzbvR",
        "outputId": "eb4ba5cb-0b9e-4774-9c07-4b01f24f3948"
      },
      "execution_count": null,
      "outputs": [
        {
          "output_type": "stream",
          "name": "stdout",
          "text": [
            "1 2\n"
          ]
        }
      ]
    },
    {
      "cell_type": "code",
      "source": [
        "print(1)\n",
        "print(2)\n",
        "print(3)\n",
        "print(1)\n",
        "print(2)\n",
        "print(3)\n",
        "print(1)\n",
        "print(2)\n",
        "print(3)\n",
        "print(1)\n",
        "print(2)\n",
        "print(3)\n",
        "print(1)\n",
        "print(2)\n",
        "print(3)\n",
        "print(1)\n",
        "print(2)\n",
        "print(3)\n",
        "print(1)\n",
        "print(2)\n",
        "print(3)\n",
        "print(1)\n",
        "print(2)\n",
        "print(3)\n",
        "print(1)\n",
        "print(2)\n",
        "print(3)\n",
        "print(1)\n",
        "print(2)\n",
        "print(3)\n",
        "print(1)\n",
        "print(2)\n",
        "print(3)\n",
        "print(1)\n",
        "print(2)\n",
        "print(3)\n",
        "\n",
        "# turns into\n",
        "def three_numbers_printed(no1,no2,no3):\n",
        "  help = \"gets three numbers and prints them , first no1, then no2, then no3, returns none\"\n",
        "  print(no1)\n",
        "  print(no2)\n",
        "  print(no3)\n",
        "\n",
        "three_numbers_printed(1,2,3)\n",
        "three_numbers_printed(1,2,3)\n",
        "three_numbers_printed(1,2,3)\n",
        "three_numbers_printed(1,2,3)\n",
        "three_numbers_printed(1,2,3)\n",
        "three_numbers_printed(1,2,3)\n",
        "three_numbers_printed(1,2,3)\n",
        "three_numbers_printed(1,2,3)\n",
        "three_numbers_printed(1,2,3)\n",
        "three_numbers_printed(1,2,3)\n",
        "three_numbers_printed(1,2,3)\n",
        "three_numbers_printed(1,2,3)"
      ],
      "metadata": {
        "id": "AxkuAk7Y4zh7",
        "colab": {
          "base_uri": "https://localhost:8080/"
        },
        "outputId": "44e9b4cd-bfc1-4f5d-b476-d6e0d5be3005"
      },
      "execution_count": null,
      "outputs": [
        {
          "output_type": "stream",
          "name": "stdout",
          "text": [
            "1\n",
            "2\n",
            "3\n",
            "1\n",
            "2\n",
            "3\n",
            "1\n",
            "2\n",
            "3\n",
            "1\n",
            "2\n",
            "3\n",
            "1\n",
            "2\n",
            "3\n",
            "1\n",
            "2\n",
            "3\n",
            "1\n",
            "2\n",
            "3\n",
            "1\n",
            "2\n",
            "3\n",
            "1\n",
            "2\n",
            "3\n",
            "1\n",
            "2\n",
            "3\n",
            "1\n",
            "2\n",
            "3\n",
            "1\n",
            "2\n",
            "3\n"
          ]
        }
      ]
    },
    {
      "cell_type": "markdown",
      "source": [
        "##lambda"
      ],
      "metadata": {
        "id": "VnKhbWvFHAif"
      }
    },
    {
      "cell_type": "markdown",
      "source": [
        "why to put nested ifs to make sure the user adds number"
      ],
      "metadata": {
        "id": "MXpEwtF-VuRr"
      }
    },
    {
      "cell_type": "code",
      "source": [
        "\"\"\"\n",
        "lambda parameters:code that is returned\n",
        "\"\"\"\n",
        "\n",
        "a_simple_func = lambda name1,name2 : name1+\" \"+name2\n",
        "# def a_simple_func(name1,name2):\n",
        "#   return name1+\" \"+name2\n",
        "print(a_simple_func(\"hello\",\"zara\"))"
      ],
      "metadata": {
        "colab": {
          "base_uri": "https://localhost:8080/"
        },
        "id": "ttZ0Kir3HCfH",
        "outputId": "b4e88b89-ecd3-49bd-ba41-5ddc137de020"
      },
      "execution_count": null,
      "outputs": [
        {
          "output_type": "stream",
          "name": "stdout",
          "text": [
            "hello zara\n"
          ]
        }
      ]
    }
  ]
}