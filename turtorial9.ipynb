{
  "nbformat": 4,
  "nbformat_minor": 0,
  "metadata": {
    "colab": {
      "provenance": []
    },
    "kernelspec": {
      "name": "python3",
      "display_name": "Python 3"
    },
    "language_info": {
      "name": "python"
    },
    "gpuClass": "standard",
    "accelerator": "GPU"
  },
  "cells": [
    {
      "cell_type": "markdown",
      "source": [
        "#Json , Text , CSV , IMGs - Python Basics : Working with Files"
      ],
      "metadata": {
        "id": "7dU5OlS92R_F"
      }
    },
    {
      "cell_type": "markdown",
      "source": [
        "##Json"
      ],
      "metadata": {
        "id": "Qdo6FBuL_Cle"
      }
    },
    {
      "cell_type": "code",
      "source": [
        "\"\"\"\n",
        "JSON Structure\n",
        "'{\n",
        "  \"key\":value,\n",
        "}'\n",
        "Why is it VERY useful ?\n",
        "object.key\n",
        "\"\"\""
      ],
      "metadata": {
        "id": "9qiYpqxJ_FOT",
        "colab": {
          "base_uri": "https://localhost:8080/",
          "height": 35
        },
        "outputId": "ec270229-569d-4745-a7fb-0215936de97f"
      },
      "execution_count": null,
      "outputs": [
        {
          "output_type": "execute_result",
          "data": {
            "text/plain": [
              "'\\nJSON Structure\\n\\'{\\n  \"key\":value,\\n}\\'\\nWhy is it VERY useful ?\\nobject.key\\n'"
            ],
            "application/vnd.google.colaboratory.intrinsic+json": {
              "type": "string"
            }
          },
          "metadata": {},
          "execution_count": 1
        }
      ]
    },
    {
      "cell_type": "markdown",
      "source": [
        "write"
      ],
      "metadata": {
        "id": "wC3glKaiJvl7"
      }
    },
    {
      "cell_type": "code",
      "source": [
        "import json\n",
        "dictionary ={\n",
        "  \"key1\": \"val1\",\n",
        "  \"key2\": \"val2\",\n",
        "  \"key3\": \"val3\",\n",
        "  \"key4\":4,\n",
        "  \"key5\":[5,6],\n",
        "  \"key6\":{\"key6.1\":7}\n",
        "}\n",
        "with open(\"sample.json\", \"w\") as outfile:\n",
        "    json.dump(dictionary, outfile)"
      ],
      "metadata": {
        "id": "4IFqrz2wJxSy"
      },
      "execution_count": null,
      "outputs": []
    },
    {
      "cell_type": "markdown",
      "source": [
        "read"
      ],
      "metadata": {
        "id": "cDz9XMXqJxhq"
      }
    },
    {
      "cell_type": "code",
      "source": [
        "f = open(\"sample.json\")\n",
        "data = json.load(f)"
      ],
      "metadata": {
        "id": "62Pj_Cz-JyvS"
      },
      "execution_count": null,
      "outputs": []
    },
    {
      "cell_type": "code",
      "source": [
        "data"
      ],
      "metadata": {
        "colab": {
          "base_uri": "https://localhost:8080/"
        },
        "id": "hWGWfAlsMMOs",
        "outputId": "88e8b181-5214-4b65-df8d-2ac54365a34e"
      },
      "execution_count": null,
      "outputs": [
        {
          "output_type": "execute_result",
          "data": {
            "text/plain": [
              "{'key1': 'val1',\n",
              " 'key2': 'val2',\n",
              " 'key3': 'val3',\n",
              " 'key4': 4,\n",
              " 'key5': [5, 6],\n",
              " 'key6': {'key6.1': 7}}"
            ]
          },
          "metadata": {},
          "execution_count": 4
        }
      ]
    },
    {
      "cell_type": "markdown",
      "source": [
        "##Text"
      ],
      "metadata": {
        "id": "cPUdP2js_aB6"
      }
    },
    {
      "cell_type": "markdown",
      "source": [
        "write"
      ],
      "metadata": {
        "id": "rem9JMfUJ3Jb"
      }
    },
    {
      "cell_type": "code",
      "source": [
        "f = open(\"Diary.txt\", \"a\")\n",
        "\"\"\"\n",
        "\"x\" - Create - will create a file, returns an error if the file exist\n",
        "\n",
        "\"a\" - Append - will create a file if the specified file does not exist\n",
        "\n",
        "\"w\" - Write - will create a file if the specified file does not exist\n",
        "\n",
        "\"r\" - read - will be able to read a file\n",
        "\"\"\"\n",
        "f.write(\"Dear Diary!\")\n",
        "Lines=[\"Today i hated my life , because my job sucks!\",\"\\n\",\"my job sucks because it is all about coding and seating on my a** \",\"\\n\",\"I saw a Whale flying\"]\n",
        "for line in Lines:\n",
        "  f.write(line)\n",
        "f.close()\n"
      ],
      "metadata": {
        "id": "8QXLGoEfNuO_"
      },
      "execution_count": null,
      "outputs": []
    },
    {
      "cell_type": "markdown",
      "source": [
        "read"
      ],
      "metadata": {
        "id": "kw0z8YJgwRWI"
      }
    },
    {
      "cell_type": "code",
      "source": [
        "f = open(\"Diary.txt\", \"r\")\n",
        "print(f.read())"
      ],
      "metadata": {
        "id": "TCP3-RKuwNmb"
      },
      "execution_count": null,
      "outputs": []
    },
    {
      "cell_type": "markdown",
      "source": [
        "##CSV"
      ],
      "metadata": {
        "id": "67hVb63K04dp"
      }
    },
    {
      "cell_type": "markdown",
      "source": [
        "write"
      ],
      "metadata": {
        "id": "Vh-C8iTiJ8Si"
      }
    },
    {
      "cell_type": "code",
      "source": [
        "import csv\n",
        "\"\"\"\n",
        "very simple table splited by ,\n",
        "\"\"\"\n",
        "header = ['name', 'weight', 'height', 'salary']\n",
        "data = [['lord voldemort', 56, 1.8, '5$'],\n",
        "        ['sauron', 78, 1.7, '235$'],\n",
        "        ['davy jones', 89, 1.6, '5k$'],\n",
        "        ['darth vader', 99, 1.5, '5b$'],]\n",
        "\n",
        "with open('staff.csv', 'w', encoding='UTF8') as f:\n",
        "    writer = csv.writer(f)\n",
        "\n",
        "    # write the header\n",
        "    writer.writerow(header)\n",
        "    for row in data:\n",
        "      # write the data\n",
        "      writer.writerow(row)"
      ],
      "metadata": {
        "id": "BQ1OCkwy0ss_"
      },
      "execution_count": null,
      "outputs": []
    },
    {
      "cell_type": "markdown",
      "source": [
        "read"
      ],
      "metadata": {
        "id": "l6idNKGSA0GK"
      }
    },
    {
      "cell_type": "code",
      "source": [
        "with open(\"staff.csv\", 'r') as file:\n",
        "  csvreader = csv.reader(file)\n",
        "  for row in csvreader:\n",
        "    print(row)"
      ],
      "metadata": {
        "colab": {
          "base_uri": "https://localhost:8080/"
        },
        "id": "p80_VHpSA2k5",
        "outputId": "e52e8e6d-5851-46bb-dfd2-717f65cdcfe3"
      },
      "execution_count": null,
      "outputs": [
        {
          "output_type": "stream",
          "name": "stdout",
          "text": [
            "['name', 'weight', 'height', 'salary']\n",
            "['lord voldemort', '56', '1.8', '5$']\n",
            "['sauron', '78', '1.7', '235$']\n",
            "['davy jones', '89', '1.6', '5k$']\n",
            "['darth vader', '99', '1.5', '5b$']\n"
          ]
        }
      ]
    },
    {
      "cell_type": "markdown",
      "source": [
        "##IMG"
      ],
      "metadata": {
        "id": "ocVjMqATCm6z"
      }
    },
    {
      "cell_type": "markdown",
      "source": [
        "write"
      ],
      "metadata": {
        "id": "7ZV9dxZKJ_Ox"
      }
    },
    {
      "cell_type": "code",
      "source": [
        "import numpy\n",
        "import cv2\n",
        "img = numpy.zeros([5,5,3])\n",
        "# a 5x5 img of rgb\n",
        "\n",
        "img[:,:,0] = numpy.ones([5,5])*200/255.0 #255 is bright in color(red) channel 0 is black\n",
        "img[:,:,1] = numpy.ones([5,5])*128/255.0 #green\n",
        "img[:,:,2] = numpy.ones([5,5])*192/255.0 #blue\n",
        "print(img)\n",
        "cv2.imwrite('color_img.jpg', img)"
      ],
      "metadata": {
        "id": "oiEKDFSmBfUf",
        "colab": {
          "base_uri": "https://localhost:8080/"
        },
        "outputId": "476d9218-9ec7-4784-b1e9-2cfa02857375"
      },
      "execution_count": null,
      "outputs": [
        {
          "output_type": "stream",
          "name": "stdout",
          "text": [
            "[[[0.78431373 0.50196078 0.75294118]\n",
            "  [0.78431373 0.50196078 0.75294118]\n",
            "  [0.78431373 0.50196078 0.75294118]\n",
            "  [0.78431373 0.50196078 0.75294118]\n",
            "  [0.78431373 0.50196078 0.75294118]]\n",
            "\n",
            " [[0.78431373 0.50196078 0.75294118]\n",
            "  [0.78431373 0.50196078 0.75294118]\n",
            "  [0.78431373 0.50196078 0.75294118]\n",
            "  [0.78431373 0.50196078 0.75294118]\n",
            "  [0.78431373 0.50196078 0.75294118]]\n",
            "\n",
            " [[0.78431373 0.50196078 0.75294118]\n",
            "  [0.78431373 0.50196078 0.75294118]\n",
            "  [0.78431373 0.50196078 0.75294118]\n",
            "  [0.78431373 0.50196078 0.75294118]\n",
            "  [0.78431373 0.50196078 0.75294118]]\n",
            "\n",
            " [[0.78431373 0.50196078 0.75294118]\n",
            "  [0.78431373 0.50196078 0.75294118]\n",
            "  [0.78431373 0.50196078 0.75294118]\n",
            "  [0.78431373 0.50196078 0.75294118]\n",
            "  [0.78431373 0.50196078 0.75294118]]\n",
            "\n",
            " [[0.78431373 0.50196078 0.75294118]\n",
            "  [0.78431373 0.50196078 0.75294118]\n",
            "  [0.78431373 0.50196078 0.75294118]\n",
            "  [0.78431373 0.50196078 0.75294118]\n",
            "  [0.78431373 0.50196078 0.75294118]]]\n"
          ]
        },
        {
          "output_type": "execute_result",
          "data": {
            "text/plain": [
              "True"
            ]
          },
          "metadata": {},
          "execution_count": 15
        }
      ]
    },
    {
      "cell_type": "markdown",
      "source": [
        "read"
      ],
      "metadata": {
        "id": "DN8cGXUqKAVZ"
      }
    },
    {
      "cell_type": "code",
      "source": [
        "#cv2.imshow('colored img.jpg',img)\n",
        "from matplotlib import pyplot as plt\n",
        "plt.imshow(img)\n",
        "# plt.imshow(cv2.cvtColor(img, cv2.COLOR_BGR2RGB))\n",
        "# plt.imshow(cv2.cvtColor(img, cv2.COLOR_BGR2RGB))\n",
        "# plt.imshow(cv2.cvtColor(img, cv2.COLOR_BGR2RGB))\n",
        "plt.axis(\"off\")\n",
        "plt.show()"
      ],
      "metadata": {
        "colab": {
          "base_uri": "https://localhost:8080/",
          "height": 406
        },
        "id": "-PW6Uk-LKCEh",
        "outputId": "6fa46963-e9cd-4166-9613-25432bf53eb0"
      },
      "execution_count": null,
      "outputs": [
        {
          "output_type": "display_data",
          "data": {
            "text/plain": [
              "<Figure size 640x480 with 1 Axes>"
            ],
            "image/png": "[encoded data removed]"
          },
          "metadata": {}
        }
      ]
    },
    {
      "cell_type": "markdown",
      "source": [
        "videos , excels , tables , docs , pdfs , etc."
      ],
      "metadata": {
        "id": "wvTnyo2RKGeD"
      }
    },
    {
      "cell_type": "markdown",
      "source": [
        "##DELETE files"
      ],
      "metadata": {
        "id": "W6TCjM3OOD9L"
      }
    },
    {
      "cell_type": "code",
      "source": [
        "import os\n",
        "os.remove(\"/content/Diary.txt\")"
      ],
      "metadata": {
        "id": "gQ9y6gF-OFzj"
      },
      "execution_count": null,
      "outputs": []
    },
    {
      "cell_type": "code",
      "source": [
        "if os.path.exists(\"nist.txt\"):\n",
        "  os.remove(\"nist.txt\")\n",
        "else:\n",
        "  print(\"The file does not exist\")"
      ],
      "metadata": {
        "colab": {
          "base_uri": "https://localhost:8080/"
        },
        "id": "-C-1VPsmU9Zz",
        "outputId": "94f7e4f0-009b-4e7e-ce48-be4b9153a738"
      },
      "execution_count": null,
      "outputs": [
        {
          "output_type": "stream",
          "name": "stdout",
          "text": [
            "The file does not exist\n"
          ]
        }
      ]
    },
    {
      "cell_type": "code",
      "source": [
        "import os\n",
        "os.mkdir(\"myfolder\")\n",
        "os.mkdir(\"myfolder2\")\n",
        "os.rmdir(\"myfolder\")"
      ],
      "metadata": {
        "id": "UcqXtWlMVAWb"
      },
      "execution_count": null,
      "outputs": []
    }
  ]
}